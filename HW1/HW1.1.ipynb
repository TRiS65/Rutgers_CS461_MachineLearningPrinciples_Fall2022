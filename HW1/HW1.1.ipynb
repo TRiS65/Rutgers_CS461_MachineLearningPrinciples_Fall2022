{
 "cells": [
  {
   "cell_type": "code",
   "execution_count": 30,
   "metadata": {},
   "outputs": [],
   "source": [
    "import numpy as np\n",
    "from scipy.stats import bernoulli, binom, norm\n",
    "import math"
   ]
  },
  {
   "cell_type": "code",
   "execution_count": 2,
   "metadata": {},
   "outputs": [
    {
     "name": "stdout",
     "output_type": "stream",
     "text": [
      "[1 1 0 0 1 0 0 0 1 1 0 1 1 0 0 0 1 0 1 1 0 1 0 1 1 1 1 1 0 0] \n",
      "sum = 16\n"
     ]
    }
   ],
   "source": [
    "# 1.3 geretate bernoulli 30 times\n",
    "X = bernoulli(0.55).rvs(30)\n",
    "X_sum = sum(X)\n",
    "print(X,'\\nsum =',X_sum)"
   ]
  },
  {
   "cell_type": "code",
   "execution_count": 3,
   "metadata": {},
   "outputs": [
    {
     "name": "stdout",
     "output_type": "stream",
     "text": [
      "0.9991534507833808\n",
      "0.9991534507834354 0.9991534507833796\n"
     ]
    }
   ],
   "source": [
    "# 1.5 calculate the probability P(Y_bar>0.5)\n",
    "# P(Y_bar>0.5) = P(Y>500) = P(Y>=501) = 1-P(Y<=500)\n",
    "# Use the cdf to calculate\n",
    "Y = binom.cdf(n=1000,k=500,p=0.55)\n",
    "print(1-Y)\n",
    "\n",
    "# Use formulas to check the answer\n",
    "Check_Y = 0\n",
    "Check_Y2 = 0\n",
    "for i in range(501,1000):\n",
    "    Check_Y += math.comb(1000,i)*pow(0.55,i)*pow(0.45,1000-i)\n",
    "    Check_Y2 += binom.pmf(n=1000,k=i,p=0.55)\n",
    "print(Check_Y,Check_Y2)"
   ]
  },
  {
   "cell_type": "code",
   "execution_count": 25,
   "metadata": {},
   "outputs": [
    {
     "name": "stdout",
     "output_type": "stream",
     "text": [
      "sum = 0.514\n",
      "0.8035058249057571\n"
     ]
    }
   ],
   "source": [
    "# 1.6 generate p_hat \n",
    "Y = bernoulli(0.55).rvs(1000)\n",
    "Y_bar = Y.mean()\n",
    "print('sum =',Y_bar)\n",
    "Check_Y = 0\n",
    "for i in range(501,1000):\n",
    "    Check_Y += math.comb(1000,i)*pow(Y_bar,i)*pow(1-Y_bar,1000-i)\n",
    "print(Check_Y)"
   ]
  },
  {
   "cell_type": "code",
   "execution_count": 39,
   "metadata": {},
   "outputs": [
    {
     "name": "stdout",
     "output_type": "stream",
     "text": [
      "0.9117421792201468\n",
      "0.9632998111964839\n"
     ]
    }
   ],
   "source": [
    "# 1.7 generate through Normal distribution\n",
    "from audioop import avg\n",
    "\n",
    "\n",
    "K = norm(loc=0.531,scale=math.sqrt(.531*(1-.531)/1000)).rvs(1000)\n",
    "K_win = []\n",
    "for i in range(1000):\n",
    "    if(K[i]>=0): \n",
    "        Pwin = 1-binom.cdf(n=1000,k=500,p=K[i])\n",
    "        K_win.append(Pwin)\n",
    "print(sum(K_win)/len(K_win))\n",
    "print(K_win[0])"
   ]
  }
 ],
 "metadata": {
  "kernelspec": {
   "display_name": "Python 3.9.7 64-bit",
   "language": "python",
   "name": "python3"
  },
  "language_info": {
   "codemirror_mode": {
    "name": "ipython",
    "version": 3
   },
   "file_extension": ".py",
   "mimetype": "text/x-python",
   "name": "python",
   "nbconvert_exporter": "python",
   "pygments_lexer": "ipython3",
   "version": "3.9.7"
  },
  "orig_nbformat": 4,
  "vscode": {
   "interpreter": {
    "hash": "a88ded6f4245aea86749347c0c5fd5051378318ea0a8914dbb4274cd7232cb5a"
   }
  }
 },
 "nbformat": 4,
 "nbformat_minor": 2
}
