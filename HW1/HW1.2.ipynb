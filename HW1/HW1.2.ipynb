{
  "cells": [
    {
      "cell_type": "code",
      "execution_count": 2,
      "metadata": {
        "id": "912nldduiAVE"
      },
      "outputs": [],
      "source": [
        "import numpy as np\n",
        "import math\n",
        "import matplotlib.pyplot as plt\n",
        "import pandas as pd"
      ]
    },
    {
      "cell_type": "code",
      "execution_count": 4,
      "metadata": {
        "id": "kpq118sjiTH6"
      },
      "outputs": [],
      "source": [
        "def data_generator(n,d):\n",
        "  if d<5: \n",
        "    return \n",
        "  data = []\n",
        "  for i in range(n):  \n",
        "    temp = [0]                                    # first column remain for Y\n",
        "    temp.append(np.random.normal(loc=3,scale=1))  #X_1\n",
        "    temp.append(np.random.normal(loc=-2,scale=1)) #X_2\n",
        "    temp.append(temp[1]+2*temp[2])                #X_3\n",
        "    temp.append(pow(temp[2]+2,2))                 #X_4\n",
        "    temp.append(np.random.binomial(1,0.8))        #X_5\n",
        "    temp[0] = 4-3*pow(temp[1],2)+temp[3]-0.01*temp[4]+temp[2]*temp[5]+np.random.normal(loc=0,scale=.1)\n",
        "    for i in range(d-5):                          #X_i\n",
        "      temp.append(np.random.normal(loc=0,scale=1))  \n",
        "    data.append(temp)\n",
        "  return np.array(data)\n",
        "\n",
        "def getError(Y):\n",
        "  Loss = 0\n",
        "  n = len(Y)\n",
        "  Y_bar = Y.mean()\n",
        "  for i in range(n):\n",
        "    Loss += pow(Y[i]-Y_bar,2)\n",
        "  return Loss/n\n"
      ]
    },
    {
      "cell_type": "markdown",
      "metadata": {
        "id": "2rsFJGQeXmRB"
      },
      "source": [
        "2.1"
      ]
    },
    {
      "cell_type": "code",
      "execution_count": 4,
      "metadata": {
        "colab": {
          "base_uri": "https://localhost:8080/"
        },
        "id": "01hVBRW3qnjv",
        "outputId": "608edd70-5c88-48bd-b88e-0493c4032898"
      },
      "outputs": [
        {
          "name": "stdout",
          "output_type": "stream",
          "text": [
            "-28.726601818994112 -28.70911602402405\n",
            "avg Y = -28.726601818994112 , -28.70911602402405 \n",
            "train error 322.8297838564185 \n",
            "test error 301.97497045497784 \n",
            "diffenrece 20.85481340144065\n"
          ]
        }
      ],
      "source": [
        "train = data_generator(10000,6)\n",
        "test = data_generator(1000,6)\n",
        "print(sum(train[:,0])/10000,sum(test[:,0])/1000)\n",
        "\n",
        "train_error = getError(train[:,0])\n",
        "test_error = getError(test[:,0])\n",
        "difference = train_error - test_error\n",
        "print('avg Y =',sum(train[:,0])/10000,',',sum(test[:,0])/1000,'\\ntrain error',train_error,'\\ntest error',test_error,'\\ndiffenrece',difference)"
      ]
    },
    {
      "cell_type": "markdown",
      "metadata": {
        "id": "1RfLA62xXpJ_"
      },
      "source": [
        "2.2"
      ]
    },
    {
      "cell_type": "code",
      "execution_count": 5,
      "metadata": {
        "id": "5xXQynJoedo2"
      },
      "outputs": [],
      "source": [
        "# d is number of variables\n",
        "# find the X with highest correlation with Y\n",
        "def getBestCorr(data,d): \n",
        "  corr = []\n",
        "  corr.append(0)\n",
        "  Y = data[:,0]\n",
        "  for i in range(1,d):\n",
        "    corr.append(abs(np.corrcoef(data[:,i],Y)[0,1]))\n",
        "  return corr.index(max(corr))\n",
        "\n",
        "# find threshold\n",
        "def threshold(data,d):\n",
        "  n = len(data)\n",
        "  if n == 2:\n",
        "    return (data[0][d]+data[1][d])/2\n",
        "  temp = data[data[:,d].argsort()]\n",
        "  Errors = []\n",
        "  alpha = []\n",
        "  for i in range(1,n-1):\n",
        "    Left = temp[:i]\n",
        "    Right = temp[i:]\n",
        "    LeftError = Left[:,0].var()\n",
        "    RightError = Right[:,0].var()\n",
        "    totalError = i/n * LeftError +(1-i/n) * RightError\n",
        "    alpha.append((temp[i-1][d]+temp[i][d])/2)\n",
        "    Errors.append(totalError)\n",
        "\n",
        "  Index = Errors.index(min(Errors))\n",
        "  Alpha = alpha[Index]\n",
        "  return Alpha\n",
        "\n",
        "# build the tree\n",
        "class Node():\n",
        "  def __init__(self,d,y):\n",
        "    self.d = d # X_d\n",
        "    self.y = y  # return value of Y_hat or threshold\n",
        "    self.left = None\n",
        "    self.right = None\n",
        "\n",
        "def decision_tree(data,d,depth):\n",
        "  if depth == 0 or len(data) == 1:\n",
        "    temp = Node(None,data[:,0].mean())  # Node.y is the return value for terminal nodes\n",
        "    return temp\n",
        "  variable = getBestCorr(data,d)        # the variable with highest corr\n",
        "  alpha = threshold(data,variable)\n",
        "  #alpha = data[:,variable].mean()\n",
        "  root = Node(variable,alpha)           # Node.y is the threshold for other non-terminal nodes\n",
        "  Leftdata = []\n",
        "  Rightdata = []  \n",
        "  for i in range(len(data)):\n",
        "    if data[i][variable] < alpha: \n",
        "      Leftdata.append(data[i])\n",
        "    else:\n",
        "      Rightdata.append(data[i])\n",
        "  if len(Leftdata)==0 or len(Rightdata)==0:\n",
        "    return Node(None,data[:,0].mean())\n",
        "  root.left = decision_tree(np.array(Leftdata),d,depth-1)\n",
        "  root.right = decision_tree(np.array(Rightdata),d,depth-1)\n",
        "  return root\n",
        "\n",
        "# find the predict Y through the tree\n",
        "def predict_D_Y(tree,data):\n",
        "  ptr = tree\n",
        "  while ptr.d != None:\n",
        "    variable = ptr.d\n",
        "    threshold = ptr.y\n",
        "    if data[variable] < threshold:\n",
        "      ptr = ptr.left\n",
        "    else:\n",
        "      ptr = ptr.right\n",
        "  return ptr.y\n",
        "\n",
        "# find the predict Y of the whole test table\n",
        "def predict_error(test,tree):\n",
        "  n = len(test)\n",
        "  Loss = 0\n",
        "  for i in range(n):\n",
        "    Y_hat = predict_D_Y(tree,test[i])\n",
        "    loss = pow(Y_hat-test[i][0],2)\n",
        "    Loss += loss\n",
        "  Loss = Loss/n\n",
        "  return Loss"
      ]
    },
    {
      "cell_type": "code",
      "execution_count": 6,
      "metadata": {
        "colab": {
          "base_uri": "https://localhost:8080/",
          "height": 667
        },
        "id": "mWabx3O0EnV3",
        "outputId": "28030795-84a8-4097-8029-9b855042247e"
      },
      "outputs": [
        {
          "name": "stdout",
          "output_type": "stream",
          "text": [
            "finish tree depth = 0  error =  318.90862399548854 280.456009568031\n",
            "finish tree depth = 1  error =  119.20245469216594 106.42972560583016\n",
            "finish tree depth = 2  error =  42.79633182097634 38.10441200133238\n",
            "finish tree depth = 3  error =  18.317823803416772 16.990723815993643\n",
            "finish tree depth = 4  error =  10.337187595332198 9.993500192148597\n",
            "finish tree depth = 5  error =  5.488782473757479 5.656114787642266\n",
            "finish tree depth = 6  error =  3.272928816707958 3.4443066205958446\n"
          ]
        },
        {
          "name": "stderr",
          "output_type": "stream",
          "text": [
            "c:\\Users\\trisc\\AppData\\Local\\Programs\\Python\\Python39\\lib\\site-packages\\numpy\\lib\\function_base.py:2853: RuntimeWarning: invalid value encountered in divide\n",
            "  c /= stddev[:, None]\n",
            "c:\\Users\\trisc\\AppData\\Local\\Programs\\Python\\Python39\\lib\\site-packages\\numpy\\lib\\function_base.py:2854: RuntimeWarning: invalid value encountered in divide\n",
            "  c /= stddev[None, :]\n"
          ]
        },
        {
          "name": "stdout",
          "output_type": "stream",
          "text": [
            "finish tree depth = 7  error =  1.9466292389265505 2.213733339726956\n",
            "finish tree depth = 8  error =  1.1294952076299598 1.5234881807426828\n",
            "finish tree depth = 9  error =  0.6385321517213219 0.9962689402203319\n",
            "finish tree depth = 10  error =  0.37650309282882816 0.7531901496183854\n",
            "finish tree depth = 11  error =  0.2506408259132037 0.6041130600074552\n",
            "finish tree depth = 12  error =  0.19158948552736116 0.5477354523164267\n",
            "finish tree depth = 13  error =  0.16426858461393776 0.5328842088024995\n",
            "finish tree depth = 14  error =  0.15355110637515176 0.527169245196156\n",
            "finish tree depth = 15  error =  0.14949581583358412 0.5253523405373869\n",
            "finish tree depth = 16  error =  0.14831871086760143 0.5248800406975479\n",
            "finish tree depth = 17  error =  0.14800441450126517 0.5245970775101482\n",
            "finish tree depth = 18  error =  0.14792556078124727 0.5248455794337119\n",
            "finish tree depth = 19  error =  0.14791371527016262 0.5247950359067255\n"
          ]
        }
      ],
      "source": [
        "#generate data with d=10\n",
        "Train_10=data_generator(10000,10)\n",
        "Test_10=data_generator(1000,10)\n",
        "\n",
        "#find errors\n",
        "Errors_train = []\n",
        "Errors_test = []\n",
        "for i in range(20):\n",
        "  DecisionTree = decision_tree(Train_10,10,i)\n",
        "  error_train = predict_error(Train_10,DecisionTree)\n",
        "  error_test = predict_error(Test_10,DecisionTree)\n",
        "  print('finish tree depth =',i,' error = ',error_train,error_test)\n",
        "  Errors_train.append(error_train)\n",
        "  Errors_test.append(error_test)"
      ]
    },
    {
      "cell_type": "code",
      "execution_count": 7,
      "metadata": {},
      "outputs": [
        {
          "name": "stdout",
          "output_type": "stream",
          "text": [
            "[318.90862399548854, 119.20245469216594, 42.79633182097634, 18.317823803416772, 10.337187595332198, 5.488782473757479, 3.272928816707958, 1.9466292389265505, 1.1294952076299598, 0.6385321517213219, 0.37650309282882816, 0.2506408259132037, 0.19158948552736116, 0.16426858461393776, 0.15355110637515176, 0.14949581583358412, 0.14831871086760143, 0.14800441450126517, 0.14792556078124727, 0.14791371527016262]\n"
          ]
        },
        {
          "data": {
            "text/plain": [
              "<function matplotlib.pyplot.show(close=None, block=None)>"
            ]
          },
          "execution_count": 7,
          "metadata": {},
          "output_type": "execute_result"
        },
        {
          "data": {
            "image/png": "[encoded data removed]",
            "text/plain": [
              "<Figure size 432x288 with 1 Axes>"
            ]
          },
          "metadata": {
            "needs_background": "light"
          },
          "output_type": "display_data"
        }
      ],
      "source": [
        "print(Errors_train)\n",
        "plt.plot(Errors_train)\n",
        "plt.show"
      ]
    },
    {
      "cell_type": "code",
      "execution_count": 8,
      "metadata": {},
      "outputs": [
        {
          "name": "stdout",
          "output_type": "stream",
          "text": [
            "[280.456009568031, 106.42972560583016, 38.10441200133238, 16.990723815993643, 9.993500192148597, 5.656114787642266, 3.4443066205958446, 2.213733339726956, 1.5234881807426828, 0.9962689402203319, 0.7531901496183854, 0.6041130600074552, 0.5477354523164267, 0.5328842088024995, 0.527169245196156, 0.5253523405373869, 0.5248800406975479, 0.5245970775101482, 0.5248455794337119, 0.5247950359067255]\n"
          ]
        },
        {
          "data": {
            "text/plain": [
              "<function matplotlib.pyplot.show(close=None, block=None)>"
            ]
          },
          "execution_count": 8,
          "metadata": {},
          "output_type": "execute_result"
        },
        {
          "data": {
            "image/png": "[encoded data removed]",
            "text/plain": [
              "<Figure size 432x288 with 1 Axes>"
            ]
          },
          "metadata": {
            "needs_background": "light"
          },
          "output_type": "display_data"
        }
      ],
      "source": [
        "print(Errors_test)\n",
        "plt.plot(Errors_test)\n",
        "plt.show"
      ]
    },
    {
      "cell_type": "markdown",
      "metadata": {
        "id": "fPRX2oLF-V5F"
      },
      "source": [
        "2.3"
      ]
    },
    {
      "cell_type": "code",
      "execution_count": 11,
      "metadata": {
        "id": "dQd5hsf_-Xmj"
      },
      "outputs": [],
      "source": [
        "def decision_tree_S(data,d,size):\n",
        "  if len(data) <= size:\n",
        "    temp = Node(None,data[:,0].mean())  # Node.y is the return value for terminal nodes\n",
        "    return temp\n",
        "  variable = getBestCorr(data,d)        # the variable with highest corr\n",
        "  alpha = threshold(data,variable)\n",
        "  #alpha = data[:,variable].mean()\n",
        "  root = Node(variable,alpha)           # Node.y is the threshold for other non-terminal nodes\n",
        "  \n",
        "  Leftdata = []\n",
        "  Rightdata = []  \n",
        "  for i in range(len(data)):\n",
        "    if data[i][variable] < alpha: \n",
        "      Leftdata.append(data[i])\n",
        "    else:\n",
        "      Rightdata.append(data[i])\n",
        "      \n",
        "  if len(Leftdata)==0 or len(Rightdata)==0:\n",
        "    return Node(None,data[:,0].mean())\n",
        "\n",
        "  root.left = decision_tree_S(np.array(Leftdata),d,size)\n",
        "  root.right = decision_tree_S(np.array(Rightdata),d,size)\n",
        "  return root"
      ]
    },
    {
      "cell_type": "code",
      "execution_count": 12,
      "metadata": {
        "colab": {
          "base_uri": "https://localhost:8080/",
          "height": 632
        },
        "id": "VmptQaGg_OIr",
        "outputId": "9fe4db2b-ee6f-4021-f3a6-bc010ac151dd"
      },
      "outputs": [
        {
          "name": "stdout",
          "output_type": "stream",
          "text": [
            "finish tree size = 10000  error =  318.90862399548854 280.456009568031\n",
            "finish tree size = 5000.0  error =  83.23891543181018 70.79754783459646\n",
            "finish tree size = 2500.0  error =  32.5166875910172 29.348386674680278\n",
            "finish tree size = 1250.0  error =  22.801346376006826 19.800893304528294\n",
            "finish tree size = 625.0  error =  8.708724849815583 8.23846361297655\n",
            "finish tree size = 312.5  error =  5.858181145799344 5.250406566452673\n",
            "finish tree size = 156.25  error =  4.306355833183044 3.921148871102979\n",
            "finish tree size = 78.125  error =  1.550262157486157 1.6041180400452553\n",
            "finish tree size = 39.0625  error =  0.9091351314939334 1.0306940222410028\n",
            "finish tree size = 19.53125  error =  0.4861370130693007 0.7067891812024855\n",
            "finish tree size = 9.765625  error =  0.2874580697114247 0.5457715046441646\n",
            "finish tree size = 4.8828125  error =  0.195574029708963 0.5015297664532017\n",
            "finish tree size = 2.44140625  error =  0.17112451234618598 0.5194355826057107\n",
            "finish tree size = 1.220703125  error =  0.14790765233945138 0.5247267040290037\n"
          ]
        }
      ],
      "source": [
        "Errors_S_train = []\n",
        "Errors_S_test = []\n",
        "Size_S = []\n",
        "i = 10000\n",
        "while i>=1 :\n",
        "  DecisionTree = decision_tree_S(Train_10,10,i)\n",
        "  error_train = predict_error(Train_10,DecisionTree)\n",
        "  error_test = predict_error(Test_10,DecisionTree)\n",
        "  Errors_S_train.append(error_train)\n",
        "  Errors_S_test.append(error_test)\n",
        "  Size_S.append(i)\n",
        "  print('finish tree size =',i,' error = ',error_train,error_test)\n",
        "  i = i/2"
      ]
    },
    {
      "cell_type": "code",
      "execution_count": null,
      "metadata": {},
      "outputs": [],
      "source": [
        "print(Errors_S_train)\n",
        "plt.plot(Size_S,Errors_S_train)\n",
        "plt.show"
      ]
    },
    {
      "cell_type": "code",
      "execution_count": null,
      "metadata": {},
      "outputs": [],
      "source": [
        "print(Errors_S_test)\n",
        "plt.plot(Size_S,Errors_S_test)\n",
        "plt.show"
      ]
    },
    {
      "cell_type": "markdown",
      "metadata": {
        "id": "TQcyB9T3Chdz"
      },
      "source": [
        "2.4"
      ]
    },
    {
      "cell_type": "code",
      "execution_count": 129,
      "metadata": {
        "id": "Il7S4CduC8qu"
      },
      "outputs": [],
      "source": [
        "#generate data with d=10\n",
        "Train_4=data_generator(10000,10)\n",
        "Test_4=data_generator(1000,10)"
      ]
    },
    {
      "cell_type": "code",
      "execution_count": 138,
      "metadata": {
        "colab": {
          "base_uri": "https://localhost:8080/"
        },
        "id": "i_E76yqwCg4I",
        "outputId": "3608a5e1-7521-4c84-9637-6918787fd8b0"
      },
      "outputs": [
        {
          "name": "stdout",
          "output_type": "stream",
          "text": [
            "finish tree depth = 0  error =  322.9679130841482 290.8544117655024\n",
            "finish tree depth = 1  error =  119.71019311117371 106.13880779482837\n",
            "finish tree depth = 2  error =  42.391150197542224 38.522527285288824\n",
            "finish tree depth = 3  error =  17.866729265735287 17.243379119523325\n",
            "finish tree depth = 4  error =  10.342340673597395 10.400416813984183\n",
            "finish tree depth = 5  error =  5.49202713107636 5.678681760499585\n",
            "finish tree depth = 6  error =  3.237664498218905 3.464831185866901\n"
          ]
        },
        {
          "name": "stderr",
          "output_type": "stream",
          "text": [
            "/usr/local/lib/python3.7/dist-packages/numpy/lib/function_base.py:2691: RuntimeWarning: invalid value encountered in true_divide\n",
            "  c /= stddev[:, None]\n",
            "/usr/local/lib/python3.7/dist-packages/numpy/lib/function_base.py:2692: RuntimeWarning: invalid value encountered in true_divide\n",
            "  c /= stddev[None, :]\n"
          ]
        },
        {
          "name": "stdout",
          "output_type": "stream",
          "text": [
            "finish tree depth = 7  error =  1.9028511189357982 2.260246368468647\n",
            "finish tree depth = 8  error =  1.12255058634081 1.4666871193128383\n",
            "finish tree depth = 9  error =  0.6114175065704691 0.9741868634693198\n",
            "finish tree depth = 10  error =  0.32707428931045873 0.6612865557906935\n",
            "finish tree depth = 11  error =  0.1914577029970077 0.5059380484284536\n",
            "finish tree depth = 12  error =  0.1289091722814568 0.44791738648813695\n",
            "finish tree depth = 13  error =  0.10308836213730188 0.4342409991503472\n",
            "finish tree depth = 14  error =  0.09223863279756529 0.43455532974353994\n",
            "finish tree depth = 15  error =  0.088642656147368 0.43548549396034364\n",
            "finish tree depth = 16  error =  0.0873485820585666 0.43596005360895507\n",
            "finish tree depth = 17  error =  0.0869761204376019 0.4365097220313039\n",
            "finish tree depth = 18  error =  0.08689323210534071 0.43670032371474754\n",
            "finish tree depth = 19  error =  0.0868721024753329 0.4366783221443551\n",
            "finish tree size = 10000  error =  322.9679130841482 290.8544117655024\n",
            "finish tree size = 5000.0  error =  82.68633714476687 68.6315341922006\n",
            "finish tree size = 2500.0  error =  31.593335991274884 28.18230384738387\n",
            "finish tree size = 1250.0  error =  20.920953692773168 18.2585248445053\n",
            "finish tree size = 625.0  error =  9.452183369822354 8.271892665011624\n",
            "finish tree size = 312.5  error =  6.014951331537257 5.113722721331615\n",
            "finish tree size = 156.25  error =  2.772783533275144 2.7384011296103217\n",
            "finish tree size = 78.125  error =  1.689384737078708 1.6843280958864881\n",
            "finish tree size = 39.0625  error =  0.7923204979536456 1.0105799059349299\n",
            "finish tree size = 19.53125  error =  0.45067993741222306 0.6279840869884352\n",
            "finish tree size = 9.765625  error =  0.2271163913371489 0.4189905972883625\n",
            "finish tree size = 4.8828125  error =  0.12673627944828553 0.4026291269598245\n",
            "finish tree size = 2.44140625  error =  0.10381924003261536 0.4202489527260736\n",
            "finish tree size = 1.220703125  error =  0.08686615186962587 0.43668934488261985\n"
          ]
        }
      ],
      "source": [
        "Errors_train = []\n",
        "Errors_test = []\n",
        "for i in range(20):\n",
        "  DecisionTree = decision_tree(Train_4,10,i)\n",
        "  error_train = predict_error(Train_4,DecisionTree)\n",
        "  error_test = predict_error(Test_4,DecisionTree)\n",
        "  print('finish tree depth =',i,' error = ',error_train,error_test)\n",
        "  Errors_train.append(error_train)\n",
        "  Errors_test.append(error_test)\n",
        "\n",
        "Errors_S_train = []\n",
        "Errors_S_test = []\n",
        "Size_S = []\n",
        "i = 10000\n",
        "while i>=1 :\n",
        "  DecisionTree = decision_tree_S(Train_4,10,i)\n",
        "  error_train = predict_error(Train_4,DecisionTree)\n",
        "  error_test = predict_error(Test_4,DecisionTree)\n",
        "  Errors_S_train.append(error_train)\n",
        "  Errors_S_test.append(error_test)\n",
        "  Size_S.append(i)\n",
        "  print('finish tree size =',i,' error = ',error_train,error_test)\n",
        "  i = i/2\n"
      ]
    },
    {
      "cell_type": "code",
      "execution_count": 139,
      "metadata": {
        "colab": {
          "base_uri": "https://localhost:8080/",
          "height": 320
        },
        "id": "TzUQaW0TDHWF",
        "outputId": "4aef081d-587b-4cfd-8210-f447f70739d4"
      },
      "outputs": [
        {
          "name": "stdout",
          "output_type": "stream",
          "text": [
            "[322.9679130841482, 119.71019311117371, 42.391150197542224, 17.866729265735287, 10.342340673597395, 5.49202713107636, 3.237664498218905, 1.9028511189357982, 1.12255058634081, 0.6114175065704691, 0.32707428931045873, 0.1914577029970077, 0.1289091722814568, 0.10308836213730188, 0.09223863279756529, 0.088642656147368, 0.0873485820585666, 0.0869761204376019, 0.08689323210534071, 0.0868721024753329]\n"
          ]
        },
        {
          "data": {
            "text/plain": [
              "<function matplotlib.pyplot.show(*args, **kw)>"
            ]
          },
          "execution_count": 139,
          "metadata": {},
          "output_type": "execute_result"
        },
        {
          "data": {
            "image/png": "[encoded data removed]",
            "text/plain": [
              "<Figure size 432x288 with 1 Axes>"
            ]
          },
          "metadata": {
            "needs_background": "light"
          },
          "output_type": "display_data"
        }
      ],
      "source": [
        "print(Errors_train)\n",
        "plt.plot(Errors_train)\n",
        "plt.show"
      ]
    },
    {
      "cell_type": "code",
      "execution_count": 140,
      "metadata": {
        "colab": {
          "base_uri": "https://localhost:8080/",
          "height": 321
        },
        "id": "B0WJEjL8M_nI",
        "outputId": "c10e384c-48b0-4cb6-8b08-17b4198e5d0b"
      },
      "outputs": [
        {
          "name": "stdout",
          "output_type": "stream",
          "text": [
            "[290.8544117655024, 106.13880779482837, 38.522527285288824, 17.243379119523325, 10.400416813984183, 5.678681760499585, 3.464831185866901, 2.260246368468647, 1.4666871193128383, 0.9741868634693198, 0.6612865557906935, 0.5059380484284536, 0.44791738648813695, 0.4342409991503472, 0.43455532974353994, 0.43548549396034364, 0.43596005360895507, 0.4365097220313039, 0.43670032371474754, 0.4366783221443551]\n"
          ]
        },
        {
          "data": {
            "text/plain": [
              "<function matplotlib.pyplot.show(*args, **kw)>"
            ]
          },
          "execution_count": 140,
          "metadata": {},
          "output_type": "execute_result"
        },
        {
          "data": {
            "image/png": "[encoded data removed]",
            "text/plain": [
              "<Figure size 432x288 with 1 Axes>"
            ]
          },
          "metadata": {
            "needs_background": "light"
          },
          "output_type": "display_data"
        }
      ],
      "source": [
        "print(Errors_test)\n",
        "plt.plot(Errors_test)\n",
        "plt.show"
      ]
    },
    {
      "cell_type": "code",
      "execution_count": 141,
      "metadata": {
        "colab": {
          "base_uri": "https://localhost:8080/",
          "height": 320
        },
        "id": "kdPf7gEzCrQB",
        "outputId": "2d888b7a-79d5-4cdc-b40b-ba79bbe8af78"
      },
      "outputs": [
        {
          "name": "stdout",
          "output_type": "stream",
          "text": [
            "[322.9679130841482, 82.68633714476687, 31.593335991274884, 20.920953692773168, 9.452183369822354, 6.014951331537257, 2.772783533275144, 1.689384737078708, 0.7923204979536456, 0.45067993741222306, 0.2271163913371489, 0.12673627944828553, 0.10381924003261536, 0.08686615186962587]\n"
          ]
        },
        {
          "data": {
            "text/plain": [
              "<function matplotlib.pyplot.show(*args, **kw)>"
            ]
          },
          "execution_count": 141,
          "metadata": {},
          "output_type": "execute_result"
        },
        {
          "data": {
            "image/png": "[encoded data removed]",
            "text/plain": [
              "<Figure size 432x288 with 1 Axes>"
            ]
          },
          "metadata": {
            "needs_background": "light"
          },
          "output_type": "display_data"
        }
      ],
      "source": [
        "print(Errors_S_train)\n",
        "plt.plot(Size_S,Errors_S_train)\n",
        "plt.show"
      ]
    },
    {
      "cell_type": "code",
      "execution_count": 142,
      "metadata": {
        "colab": {
          "base_uri": "https://localhost:8080/",
          "height": 321
        },
        "id": "wXYnqmLWNB4k",
        "outputId": "5af44161-fa89-4be5-efc8-8b95f14bb1ef"
      },
      "outputs": [
        {
          "name": "stdout",
          "output_type": "stream",
          "text": [
            "[290.8544117655024, 68.6315341922006, 28.18230384738387, 18.2585248445053, 8.271892665011624, 5.113722721331615, 2.7384011296103217, 1.6843280958864881, 1.0105799059349299, 0.6279840869884352, 0.4189905972883625, 0.4026291269598245, 0.4202489527260736, 0.43668934488261985]\n"
          ]
        },
        {
          "data": {
            "text/plain": [
              "<function matplotlib.pyplot.show(*args, **kw)>"
            ]
          },
          "execution_count": 142,
          "metadata": {},
          "output_type": "execute_result"
        },
        {
          "data": {
            "image/png": "[encoded data removed]",
            "text/plain": [
              "<Figure size 432x288 with 1 Axes>"
            ]
          },
          "metadata": {
            "needs_background": "light"
          },
          "output_type": "display_data"
        }
      ],
      "source": [
        "print(Errors_S_test)\n",
        "plt.plot(Size_S,Errors_S_test)\n",
        "plt.show"
      ]
    },
    {
      "cell_type": "markdown",
      "metadata": {
        "id": "QfZY8oQWYLPR"
      },
      "source": [
        "2.5"
      ]
    },
    {
      "cell_type": "code",
      "execution_count": 16,
      "metadata": {
        "id": "3y0gRBgRXtNq"
      },
      "outputs": [],
      "source": [
        "Train_50 = data_generator(10000,50) \n",
        "Test_50 = data_generator(1000,50)"
      ]
    },
    {
      "cell_type": "code",
      "execution_count": 37,
      "metadata": {
        "colab": {
          "base_uri": "https://localhost:8080/",
          "height": 736
        },
        "id": "Jp6rk95dYfng",
        "outputId": "0af2fcae-2aeb-43e4-d6b4-44c93c55e198"
      },
      "outputs": [
        {
          "name": "stdout",
          "output_type": "stream",
          "text": [
            "start tree  0\n",
            "start tree  1\n",
            "start tree  2\n",
            "start tree  3\n",
            "start tree  4\n",
            "start tree  5\n",
            "start tree  6\n",
            "start tree  7\n"
          ]
        },
        {
          "name": "stderr",
          "output_type": "stream",
          "text": [
            "/usr/local/lib/python3.7/dist-packages/numpy/lib/function_base.py:2691: RuntimeWarning: invalid value encountered in true_divide\n",
            "  c /= stddev[:, None]\n",
            "/usr/local/lib/python3.7/dist-packages/numpy/lib/function_base.py:2692: RuntimeWarning: invalid value encountered in true_divide\n",
            "  c /= stddev[None, :]\n"
          ]
        },
        {
          "name": "stdout",
          "output_type": "stream",
          "text": [
            "start tree  8\n",
            "start tree  9\n",
            "start tree  10\n",
            "start tree  11\n",
            "start tree  12\n",
            "start tree  13\n",
            "start tree  14\n",
            "start tree  15\n",
            "start tree  16\n",
            "start tree  17\n",
            "start tree  18\n",
            "start tree  19\n",
            "[325.44318487898045, 118.9927609612531, 42.32736239684722, 17.66058889219694, 10.538254535788539, 6.180730263131361, 3.812424096046052, 2.4279804242278797, 1.5962827332518037, 1.0080240228457105, 0.7603568975258406, 0.635680987574582, 0.6371769162134089, 0.6397363534905478, 0.641983918966671, 0.6385032157187066, 0.6404438641090587, 0.6406445014416458, 0.6407021410088429, 0.6406087563304776]\n"
          ]
        },
        {
          "data": {
            "text/plain": [
              "<function matplotlib.pyplot.show(*args, **kw)>"
            ]
          },
          "execution_count": 37,
          "metadata": {},
          "output_type": "execute_result"
        },
        {
          "data": {
            "image/png": "[encoded data removed]",
            "text/plain": [
              "<Figure size 432x288 with 1 Axes>"
            ]
          },
          "metadata": {
            "needs_background": "light"
          },
          "output_type": "display_data"
        }
      ],
      "source": [
        "Errors_50 = []\n",
        "for i in range(20):\n",
        "  print('start tree ',i)\n",
        "  DecisionTree_50 = decision_tree(Train_50,50,i)\n",
        "  error = predict_error(Test_50,DecisionTree_50)\n",
        "  Errors_50.append(error)\n",
        "print(Errors_50)\n",
        "plt.plot(Errors_50)\n",
        "plt.show\n"
      ]
    },
    {
      "cell_type": "code",
      "execution_count": 32,
      "metadata": {
        "colab": {
          "base_uri": "https://localhost:8080/",
          "height": 337
        },
        "id": "Uy1FIR-wBudG",
        "outputId": "6024da3d-d295-40dc-c1d4-9bd2937e6805"
      },
      "outputs": [
        {
          "name": "stdout",
          "output_type": "stream",
          "text": [
            "[10000, 5000.0, 2500.0, 1250.0, 625.0, 312.5, 156.25, 78.125, 39.0625, 19.53125, 9.765625, 4.8828125, 2.44140625, 1.220703125] \n",
            " [325.44318487898045, 82.84221398410469, 32.9784916463934, 22.802210280063978, 8.88766645093094, 6.351787745236559, 3.3944123126369465, 2.006766774526393, 1.0206574306914118, 0.6373242049222569, 0.49525924456935105, 0.608334037041275, 0.6127225009781279, 0.6406273044747665]\n"
          ]
        },
        {
          "data": {
            "text/plain": [
              "<function matplotlib.pyplot.show(*args, **kw)>"
            ]
          },
          "execution_count": 32,
          "metadata": {},
          "output_type": "execute_result"
        },
        {
          "data": {
            "image/png": "[encoded data removed]",
            "text/plain": [
              "<Figure size 432x288 with 1 Axes>"
            ]
          },
          "metadata": {
            "needs_background": "light"
          },
          "output_type": "display_data"
        }
      ],
      "source": [
        "Errors_S_50 = []\n",
        "Size_50 = []\n",
        "i = 10000\n",
        "while i>=1 :\n",
        "  print('start tree size =',i)\n",
        "  DecisionTree_50S = decision_tree_S(Train_50,50,i)\n",
        "  error = predict_error(Test_50,DecisionTree_50S)\n",
        "  Errors_S_50.append(error)\n",
        "  Size_50.append(i)\n",
        "  i = i/2\n",
        "\n",
        "print(Errors_S_50)\n",
        "\n",
        "print(Size_50,'\\n',Errors_S_50)\n",
        "plt.plot(Size_50,Errors_S_50)\n",
        "plt.show"
      ]
    },
    {
      "cell_type": "markdown",
      "metadata": {
        "id": "ZZhNdBNeYQ7x"
      },
      "source": [
        "2.6"
      ]
    },
    {
      "cell_type": "code",
      "execution_count": null,
      "metadata": {
        "colab": {
          "base_uri": "https://localhost:8080/",
          "height": 1000
        },
        "id": "qyHEb0FmD7Fx",
        "outputId": "b3143852-9f63-4501-84c7-b7324d0404ef"
      },
      "outputs": [],
      "source": [
        "def decision_tree_Sd(data,d,size):\n",
        "  if len(data) <= size:\n",
        "    temp = Node(None,data[:,0].mean())  # Node.y is the return value for terminal nodes\n",
        "    return temp,0\n",
        "  count = 0\n",
        "  variable = getBestCorr(data,d)        # the variable with highest corr\n",
        "  if variable >=6:\n",
        "    count += 1\n",
        "  alpha = threshold(data,variable)\n",
        "  #alpha = data[:,variable].mean()\n",
        "  root = Node(variable,alpha)           # Node.y is the threshold for other non-terminal nodes\n",
        "  Leftdata = []\n",
        "  Rightdata = []  \n",
        "  for i in range(len(data)):\n",
        "    if data[i][variable] < alpha: \n",
        "      Leftdata.append(data[i])\n",
        "    else:\n",
        "      Rightdata.append(data[i])\n",
        "  if len(Leftdata)==0 or len(Rightdata)==0:\n",
        "    return Node(None,data[:,0].mean()),count\n",
        "  root.left,temp = decision_tree_Sd(np.array(Leftdata),d,size)\n",
        "  count += temp\n",
        "  root.right,temp = decision_tree_Sd(np.array(Rightdata),d,size)\n",
        "  count += temp\n",
        "  return root,count\n",
        "\n",
        "def decision_tree_d(data,d,depth):\n",
        "  if depth == 0 or len(data) == 1:\n",
        "    temp = Node(None,data[:,0].mean())  # Node.y is the return value for terminal nodes\n",
        "    return temp,0\n",
        "  count = 0\n",
        "  variable = getBestCorr(data,d)        # the variable with highest corr\n",
        "  if variable >=6:\n",
        "    count += 1\n",
        "  alpha = threshold(data,variable)\n",
        "  #alpha = data[:,variable].mean()\n",
        "  root = Node(variable,alpha)           # Node.y is the threshold for other non-terminal nodes\n",
        "  Leftdata = []\n",
        "  Rightdata = []  \n",
        "  for i in range(len(data)):\n",
        "    if data[i][variable] < alpha: \n",
        "      Leftdata.append(data[i])\n",
        "    else:\n",
        "      Rightdata.append(data[i])\n",
        "  if len(Leftdata)==0 or len(Rightdata)==0:\n",
        "    return Node(None,data[:,0].mean()),count\n",
        "  root.left,temp = decision_tree_d(np.array(Leftdata),d,depth-1)\n",
        "  count += temp\n",
        "  root.right,temp = decision_tree_d(np.array(Rightdata),d,depth-1)\n",
        "  count += temp\n",
        "  return root,count\n",
        "\n",
        "count2 = []\n",
        "countS2 = []\n",
        "d = 5\n",
        "while d <= 50: \n",
        "  print('start data d =',d)\n",
        "  Train_d = data_generator(10000,d) \n",
        "  #Test_d = data_generator(1000,d)\n",
        "\n",
        "  DecisionTree_d,count_d = decision_tree_d(Train_d,d,15)\n",
        "  count2.append(count_d)\n",
        "\n",
        "  DecisionTree_dS,count_dS = decision_tree_Sd(Train_d,d,5)\n",
        "  countS2.append(count_dS)\n",
        "  \n",
        "  d = d+1\n"
      ]
    },
    {
      "cell_type": "code",
      "execution_count": 135,
      "metadata": {
        "colab": {
          "base_uri": "https://localhost:8080/",
          "height": 337
        },
        "id": "deyUtqA7NBH0",
        "outputId": "5bf37635-5313-45b9-d428-1148b454fc50"
      },
      "outputs": [
        {
          "name": "stdout",
          "output_type": "stream",
          "text": [
            "[0, 0, 839, 1277, 1654, 1962, 2144, 2200, 2418, 2664, 2644, 2522, 2884, 2810, 2821, 2941, 3016, 2917, 3006, 3009, 3074, 3020, 3108, 3164, 3292, 3183, 3407, 3341, 3372, 3431, 3384, 3411, 3232, 3355, 3200, 3495, 3143, 3451, 3608, 3177, 3353, 3463, 3552, 3315, 3653, 3501]\n",
            "[0, 0, 185, 311, 442, 536, 565, 639, 697, 790, 869, 795, 893, 870, 892, 964, 1030, 1013, 1005, 1021, 1086, 1028, 1068, 1129, 1195, 1122, 1188, 1184, 1218, 1272, 1218, 1267, 1119, 1228, 1176, 1278, 1180, 1275, 1367, 1192, 1238, 1309, 1322, 1267, 1344, 1346]\n"
          ]
        },
        {
          "data": {
            "text/plain": [
              "<function matplotlib.pyplot.show(*args, **kw)>"
            ]
          },
          "execution_count": 135,
          "metadata": {},
          "output_type": "execute_result"
        },
        {
          "data": {
            "image/png": "[encoded data removed]",
            "text/plain": [
              "<Figure size 432x288 with 1 Axes>"
            ]
          },
          "metadata": {
            "needs_background": "light"
          },
          "output_type": "display_data"
        }
      ],
      "source": [
        "print(count2)\n",
        "print(countS2)\n",
        "plt.plot(count2)\n",
        "plt.plot(countS2)\n",
        "plt.legend(['depth', 'size'])\n",
        "plt.show"
      ]
    },
    {
      "cell_type": "markdown",
      "metadata": {
        "id": "_221upruEYcQ"
      },
      "source": [
        "2.7"
      ]
    },
    {
      "cell_type": "code",
      "execution_count": 16,
      "metadata": {
        "id": "mEP4A4zcoaG0"
      },
      "outputs": [],
      "source": [
        "# start with a mathematical guess\n",
        "def intitialize_w(d): \n",
        "  \n",
        "  if d < 5 :\n",
        "    return error\n",
        "  w = [] # w_0 is constatn, w_1 is coef of X_1\n",
        "  w.append(4) \n",
        "  w.append(-9)\n",
        "  w.append(0.8)\n",
        "  w.append(1)\n",
        "  w.append(-0.01)\n",
        "  w.append(-2)\n",
        "  for i in range(5,d):\n",
        "    w.append(0)\n",
        "  w = np.array(w)\n",
        "  return w\n",
        "\n",
        "def findGD(start,X,X_T,Y,alpha):\n",
        "\n",
        "  current = start\n",
        "  next = start-alpha*(np.matmul(np.matmul(X_T,X),start)-np.matmul(X_T,Y))\n",
        "\n",
        "  while np.linalg.norm(next - current) > 0.0001 : \n",
        "    if isinstance(next[0], complex):\n",
        "      break\n",
        "    current = next\n",
        "    next = current - alpha*(np.matmul(np.matmul(X_T,X),current)-np.matmul(X_T,Y))\n",
        "\n",
        "  error =  pow(np.matmul(X,current)-Y,2).mean()\n",
        "  return current,error"
      ]
    },
    {
      "cell_type": "code",
      "execution_count": 154,
      "metadata": {
        "colab": {
          "base_uri": "https://localhost:8080/"
        },
        "id": "2O-zjzBRFVgN",
        "outputId": "3bb2fb65-9c21-4100-f9d8-8fef1f266323"
      },
      "outputs": [
        {
          "name": "stdout",
          "output_type": "stream",
          "text": [
            "5.534015994289211e-06\n",
            "start =  0\n",
            "start =  1\n",
            "start =  2\n",
            "start =  3\n",
            "start =  4\n",
            "start =  5\n",
            "start =  6\n",
            "start =  7\n",
            "start =  8\n",
            "start =  9\n",
            "[ 2.92969000e+01 -1.48043001e+01  6.99025277e+00 -2.10674946e+00\n",
            " -6.74393657e-03 -1.99885985e+00 -1.96113514e-02  1.73551434e-03\n",
            " -4.73478603e-02  2.91860892e-02  2.01506784e-02] 18.68091096685721\n"
          ]
        },
        {
          "data": {
            "text/plain": [
              "17.814054895724887"
            ]
          },
          "execution_count": 154,
          "metadata": {},
          "output_type": "execute_result"
        }
      ],
      "source": [
        "Train_7 = data_generator(10000,10)\n",
        "Test_7 = data_generator(1000,10)\n",
        "n = 10000\n",
        "X = [ row[1:] for row in Train_7 ]\n",
        "X = np.hstack((np.ones((n,1)),X))\n",
        "Y = [ row[0] for row in Train_7 ]\n",
        "\n",
        "# initializing parameters\n",
        "X_T = np.transpose(X)\n",
        "X_T_X = np.matmul(X_T,X)\n",
        "eigenval_max = max(np.linalg.eigvals(X_T_X))\n",
        "alpha = 1/(eigenval_max)\n",
        "print(alpha)\n",
        "\n",
        "w = []\n",
        "w.append(intitialize_w(10))\n",
        "t = 0\n",
        "error = [pow(np.matmul(X,w[0])-Y,2).mean()]\n",
        "for i in range(10):\n",
        "  print('start = ',i)\n",
        "  w0 = np.random.rand(11)\n",
        "\n",
        "  wt,error_t = findGD(w0,X,X_T,Y,alpha)\n",
        "\n",
        "  if error_t <= error[t]: \n",
        "    w.append(wt)\n",
        "    error.append(error_t)\n",
        "    t += 1\n",
        "\n",
        "print(w[t],error[t])\n",
        "\n",
        "X_test = [ row[1:] for row in Test_7 ]\n",
        "X_test = np.hstack((np.ones((1000,1)),X_test))\n",
        "Y_test = [ row[0] for row in Test_7 ]\n",
        "pow(X_test.dot(w[t])-Y_test,2).mean()"
      ]
    },
    {
      "cell_type": "code",
      "execution_count": 155,
      "metadata": {
        "colab": {
          "base_uri": "https://localhost:8080/"
        },
        "id": "l8kK04oHOTFS",
        "outputId": "3ee1a015-9676-4172-b013-80e1dd490a12"
      },
      "outputs": [
        {
          "name": "stdout",
          "output_type": "stream",
          "text": [
            "29.29686922042101\n",
            "-14.622756651610578\n",
            "7.353327017849952\n",
            "-2.2882881509562996\n",
            "-0.006743268684635001\n",
            "-1.9988494591631096\n",
            "-0.019611401835880306\n",
            "0.0017356098457102184\n",
            "-0.04734800966068492\n",
            "0.029186063278831012\n",
            "0.020150842833630882\n"
          ]
        }
      ],
      "source": [
        "for i in range (11):\n",
        "  print(w[t][i])"
      ]
    },
    {
      "cell_type": "markdown",
      "metadata": {
        "id": "G9tKyOCNosVx"
      },
      "source": [
        "2.8"
      ]
    },
    {
      "cell_type": "code",
      "execution_count": 17,
      "metadata": {
        "id": "6EUZl5cxTCOG"
      },
      "outputs": [],
      "source": [
        "# if every element in w is larger than epsilon, terminate the loop\n",
        "def Terminate(w,epsilon):\n",
        "  for i in range(len(w)):\n",
        "    if abs(w[i]) < epsilon:\n",
        "      return 0\n",
        "  return 1\n",
        "\n",
        "#return slopes and errors  \n",
        "def findbestW(X,Y,d): \n",
        "  X_T = np.transpose(X)\n",
        "  X_T_X = np.matmul(X_T,X)\n",
        "  eigenval_max = max(np.linalg.eigvals(X_T_X))\n",
        "  alpha = 1/(eigenval_max)\n",
        "  w = []\n",
        "  w.append(intitialize_w(d))\n",
        "  t = 0\n",
        "  error = [pow(np.matmul(X,w[0])-Y,2).mean()]\n",
        "  for i in range(10):\n",
        "    w0 = np.random.rand(d+1)\n",
        "    wt,error_t = findGD(w0,X,X_T,Y,alpha)\n",
        "    if error_t <= error[t]: \n",
        "      w.append(wt)\n",
        "      error.append(error_t)\n",
        "      t += 1\n",
        "  return w[t],error[t]\n",
        "  "
      ]
    },
    {
      "cell_type": "code",
      "execution_count": 22,
      "metadata": {
        "colab": {
          "base_uri": "https://localhost:8080/"
        },
        "id": "lCvnviAEQ1-V",
        "outputId": "9ff7b8d8-e1a2-4177-bb6d-17629ad53ba9"
      },
      "outputs": [
        {
          "name": "stdout",
          "output_type": "stream",
          "text": [
            "finish epsilon =  0.001\n",
            "finish epsilon =  0.002\n",
            "finish epsilon =  0.003\n",
            "finish epsilon =  0.004\n",
            "finish epsilon =  0.005\n",
            "finish epsilon =  0.006\n",
            "finish epsilon =  0.007\n",
            "finish epsilon =  0.008\n",
            "finish epsilon =  0.009000000000000001\n",
            "finish epsilon =  0.010000000000000002\n"
          ]
        }
      ],
      "source": [
        "Train_8 = data_generator(10000,50)\n",
        "Test_8 = data_generator(1000,50)\n",
        "X = [ row[1:] for row in Train_8 ]\n",
        "X = np.hstack((np.ones((10000,1)),X))\n",
        "Y = [ row[0] for row in Train_8 ]\n",
        "X_test = [ row[1:] for row in Test_8 ]\n",
        "X_test = np.hstack((np.ones((1000,1)),X_test))\n",
        "Y_test = [ row[0] for row in Test_8 ]\n",
        "\n",
        "epsilon = 0\n",
        "Epsilon = []\n",
        "Loss = []\n",
        "count = []\n",
        "for i in range(10): \n",
        "  epsilon += 0.001\n",
        "\n",
        "  w_best,error = findbestW(X,Y,50)\n",
        "  X_copy = X\n",
        "  Checking = np.ones(51)\n",
        "  while Terminate(w_best,epsilon) == 0:\n",
        "    for j in range(51):\n",
        "      if abs(w_best[j]) < epsilon and Checking[j] != 0:\n",
        "        w_best[j] = 0\n",
        "        X_copy[:, j] =  0\n",
        "        Checking[j] = 0\n",
        "    w_best,error = findbestW(X_copy,Y,50)\n",
        "  temp = 0\n",
        "  for j in range(51):\n",
        "    if Checking[j] == 0:\n",
        "      temp += 1\n",
        "  Epsilon.append(epsilon)\n",
        "  count.append(temp)\n",
        "  Loss.append(pow(X_test.dot(w_best)-Y_test,2).mean())\n",
        "  print('finish epsilon = ',epsilon)"
      ]
    },
    {
      "cell_type": "code",
      "execution_count": 23,
      "metadata": {
        "colab": {
          "base_uri": "https://localhost:8080/",
          "height": 283
        },
        "id": "FlCNe2Ycm9vP",
        "outputId": "fb698c3e-1928-4a1e-8f2b-3a05a33fc0f8"
      },
      "outputs": [
        {
          "data": {
            "text/plain": [
              "[<matplotlib.lines.Line2D at 0x193a62e1c40>]"
            ]
          },
          "execution_count": 23,
          "metadata": {},
          "output_type": "execute_result"
        },
        {
          "data": {
            "image/png": "[encoded data removed]",
            "text/plain": [
              "<Figure size 432x288 with 1 Axes>"
            ]
          },
          "metadata": {
            "needs_background": "light"
          },
          "output_type": "display_data"
        }
      ],
      "source": [
        "plt.plot(Epsilon,Loss)"
      ]
    },
    {
      "cell_type": "code",
      "execution_count": 24,
      "metadata": {
        "colab": {
          "base_uri": "https://localhost:8080/",
          "height": 283
        },
        "id": "zemXL7knnBeR",
        "outputId": "460d87e2-3105-44e7-9d35-5156a1349f52"
      },
      "outputs": [
        {
          "data": {
            "text/plain": [
              "[<matplotlib.lines.Line2D at 0x193a64b9bb0>]"
            ]
          },
          "execution_count": 24,
          "metadata": {},
          "output_type": "execute_result"
        },
        {
          "data": {
            "image/png": "[encoded data removed]",
            "text/plain": [
              "<Figure size 432x288 with 1 Axes>"
            ]
          },
          "metadata": {
            "needs_background": "light"
          },
          "output_type": "display_data"
        }
      ],
      "source": [
        "plt.plot(Epsilon,count)"
      ]
    },
    {
      "cell_type": "markdown",
      "metadata": {
        "id": "XBRY6NChYT4n"
      },
      "source": [
        "Bonus"
      ]
    },
    {
      "cell_type": "code",
      "execution_count": 26,
      "metadata": {
        "id": "8aDI1YPUYVgc"
      },
      "outputs": [],
      "source": [
        "#for new matrix X, return in format of [X_0,X_1,...,X_d,X_1^2,X_1*X_2,...X_1*X_d,X_2^2,X_2*X_3,...,X_d^2]\n",
        "def data_regenerate(X): # X = X_1 ~ X_d\n",
        "  d = len(X[0])\n",
        "  Z = []\n",
        "  for i in range(len(X)):\n",
        "    temp = X[i]\n",
        "    for j in range(1,d):\n",
        "      for k in range(j,d):\n",
        "        temp = np.append(temp,X[i][j]*X[i][k])\n",
        "    Z.append(temp)\n",
        "  return np.array(Z)\n",
        "  "
      ]
    },
    {
      "cell_type": "code",
      "execution_count": 27,
      "metadata": {
        "colab": {
          "base_uri": "https://localhost:8080/"
        },
        "id": "itJLJUOVo3DN",
        "outputId": "61135147-c2d5-42e1-ec41-f9a4149b525d"
      },
      "outputs": [
        {
          "name": "stdout",
          "output_type": "stream",
          "text": [
            "28\n",
            "start =  0\n",
            "start =  1\n",
            "start =  2\n",
            "start =  3\n",
            "start =  4\n",
            "start =  5\n",
            "start =  6\n",
            "start =  7\n",
            "start =  8\n",
            "start =  9\n",
            "[ 4.    0.    0.    1.   -0.01  0.    0.   -3.    0.    0.    0.    0.\n",
            "  0.    0.    0.    0.    1.    0.    0.    0.    0.    0.    0.    0.\n",
            "  0.    0.    0.    0.  ] 0.010082308911717101\n"
          ]
        },
        {
          "data": {
            "text/plain": [
              "0.010130746373522171"
            ]
          },
          "execution_count": 27,
          "metadata": {},
          "output_type": "execute_result"
        }
      ],
      "source": [
        "Train_B = data_generator(10000,6)\n",
        "Test_B = data_generator(1000,6)\n",
        "X = [ row[1:] for row in Train_B ]\n",
        "X = np.hstack((np.ones((10000,1)),X))\n",
        "Z = data_regenerate(X)\n",
        "Y = [ row[0] for row in Train_B ]\n",
        "X_test = [ row[1:] for row in Test_B ]\n",
        "X_test = np.hstack((np.ones((1000,1)),X_test))\n",
        "Z_test = data_regenerate(X_test)\n",
        "Y_test = [ row[0] for row in Test_B ]\n",
        "\n",
        "Z_T = np.transpose(Z)\n",
        "Z_T_Z = Z_T.dot(Z)\n",
        "eigenval_max = max(np.linalg.eigvals(Z_T_Z))\n",
        "alpha = 1/(eigenval_max)\n",
        "d = len(Z[0])\n",
        "print(d)\n",
        "\n",
        "temp = np.zeros(d)\n",
        "temp[0] = 4\n",
        "temp[3] = 1\n",
        "temp[4] = -0.01\n",
        "temp[7] = -3\n",
        "temp[16] = 1\n",
        "\n",
        "w = []\n",
        "w.append(temp)\n",
        "t = 0\n",
        "error = [pow(np.matmul(Z,w[0])-Y,2).mean()]\n",
        "for i in range(10):\n",
        "  print('start = ',i)\n",
        "  w0 = np.random.rand(d)\n",
        "  #print('w0 = ',w0)\n",
        "  wt,error_t = findGD(w0,Z,Z_T,Y,alpha)\n",
        "  #print('w = ',wt,' error = ',error_t)\n",
        "  if error_t <= error[t]: \n",
        "    w.append(wt)\n",
        "    error.append(error_t)\n",
        "    t += 1\n",
        "\n",
        "print(w[t],error[t])\n",
        "\n",
        "pow(np.matmul(Z_test,w[t])-Y_test,2).mean()"
      ]
    },
    {
      "cell_type": "code",
      "execution_count": 28,
      "metadata": {
        "colab": {
          "base_uri": "https://localhost:8080/"
        },
        "id": "Eur5ok4R3l_n",
        "outputId": "474e2b00-0400-4f6d-a100-9f45e7042824"
      },
      "outputs": [
        {
          "name": "stdout",
          "output_type": "stream",
          "text": [
            "[array([ 4.  ,  0.  ,  0.  ,  1.  , -0.01,  0.  ,  0.  , -3.  ,  0.  ,\n",
            "        0.  ,  0.  ,  0.  ,  0.  ,  0.  ,  0.  ,  0.  ,  1.  ,  0.  ,\n",
            "        0.  ,  0.  ,  0.  ,  0.  ,  0.  ,  0.  ,  0.  ,  0.  ,  0.  ,\n",
            "        0.  ])]\n"
          ]
        }
      ],
      "source": [
        "print(w)"
      ]
    }
  ],
  "metadata": {
    "colab": {
      "collapsed_sections": [],
      "provenance": []
    },
    "kernelspec": {
      "display_name": "Python 3.9.7 64-bit",
      "language": "python",
      "name": "python3"
    },
    "language_info": {
      "codemirror_mode": {
        "name": "ipython",
        "version": 3
      },
      "file_extension": ".py",
      "mimetype": "text/x-python",
      "name": "python",
      "nbconvert_exporter": "python",
      "pygments_lexer": "ipython3",
      "version": "3.9.7 (tags/v3.9.7:1016ef3, Aug 30 2021, 20:19:38) [MSC v.1929 64 bit (AMD64)]"
    },
    "vscode": {
      "interpreter": {
        "hash": "a88ded6f4245aea86749347c0c5fd5051378318ea0a8914dbb4274cd7232cb5a"
      }
    }
  },
  "nbformat": 4,
  "nbformat_minor": 0
}
