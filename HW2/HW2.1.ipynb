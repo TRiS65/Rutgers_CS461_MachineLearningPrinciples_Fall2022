{
  "cells": [
    {
      "cell_type": "code",
      "execution_count": 2,
      "metadata": {
        "id": "912nldduiAVE"
      },
      "outputs": [],
      "source": [
        "import numpy as np\n",
        "import math\n",
        "import matplotlib.pyplot as plt\n",
        "import random as rd"
      ]
    },
    {
      "cell_type": "markdown",
      "metadata": {
        "id": "uhachmcc9k7g"
      },
      "source": [
        "1 Decision Trees for Classification"
      ]
    },
    {
      "cell_type": "markdown",
      "metadata": {
        "id": "JsIvZq4L9p8a"
      },
      "source": [
        "1.1"
      ]
    },
    {
      "cell_type": "code",
      "execution_count": 5,
      "metadata": {
        "id": "kpq118sjiTH6"
      },
      "outputs": [],
      "source": [
        "def data_generator(n,d,std):\n",
        "  if d<5: \n",
        "    return \n",
        "  data = []\n",
        "  for i in range(n):  \n",
        "    temp = [0]          # first column remain for Y\n",
        "    for i in range(d):  #X_i\n",
        "      temp.append((-1)**(np.random.binomial(1,0.5))) \n",
        "    Check = 0\n",
        "    for i in range(1,6):\n",
        "      Check += 0.9**i * temp[i]\n",
        "    Check += np.random.normal(loc=0,scale=std)\n",
        "    if Check > 0:\n",
        "      temp[0] = 1\n",
        "    else:\n",
        "      temp[0] = -1\n",
        "    data.append(temp)\n",
        "  return np.array(data)\n",
        "\n",
        "def Misclassification(Y,Y_predict):\n",
        "  n = len(Y)\n",
        "  cnt = 0\n",
        "  for i in range(n):\n",
        "    if Y[i] != Y_predict[i]:\n",
        "      cnt += 1\n",
        "  return cnt"
      ]
    },
    {
      "cell_type": "code",
      "execution_count": 6,
      "metadata": {
        "id": "WtUPHsLBLs52"
      },
      "outputs": [],
      "source": [
        "def InformationGain(X,Y):\n",
        "  n = len(Y)\n",
        "  PosX = 0\n",
        "  PosY = 0\n",
        "  posXposY = 0\n",
        "  negXposY = 0\n",
        "\n",
        "  PosX = X[X==1]\n",
        "  Prob_PosX = len(PosX)/n\n",
        "  Prob_NegX = 1 - Prob_PosX\n",
        "\n",
        "  PosY = Y[Y==1]\n",
        "  Prob_PosY = len(PosY)/n\n",
        "  Prob_NegY = 1 - Prob_PosY\n",
        "\n",
        "  H_posY = 0\n",
        "  H_negY = 0\n",
        "  if Prob_PosY != 0:\n",
        "    H_posY = - Prob_PosY * math.log2(Prob_PosY)\n",
        "  if Prob_NegY != 0: \n",
        "    H_negY = - Prob_NegY * math.log2(Prob_NegY)\n",
        "  H_Y = H_posY + H_negY\n",
        "\n",
        "  for i in range(n):\n",
        "    if Y[i] > 0: \n",
        "      if X[i] > 0: \n",
        "        posXposY += 1\n",
        "      else:  \n",
        "        negXposY += 1\n",
        "\n",
        "  H_posYposX = 0\n",
        "  if posXposY != 0:\n",
        "    Prob_posYposX = posXposY/len(PosX)\n",
        "    H_posYposX = - Prob_posYposX * math.log2(Prob_posYposX)\n",
        "  H_negYposX = 0\n",
        "  if len(PosX)-posXposY != 0:         # negative Y and positive X: len(PosX) is number of postive X\n",
        "    Prob_negYposX = (len(PosX)-posXposY)/len(PosX)\n",
        "    H_negYposX = - Prob_negYposX * math.log2(Prob_negYposX)\n",
        "  H_posYnegX = 0\n",
        "  if negXposY != 0:\n",
        "    Prob_posYnegX = negXposY/(n-len(PosX))\n",
        "    H_posYnegX = - Prob_posYnegX * math.log2(Prob_posYnegX)\n",
        "  H_negYnegX = 0\n",
        "  if ((n-len(PosX))-negXposY) != 0:      # negative Y and negative X: n-len(PosX) is number of negative X\n",
        "    Prob_negYnegX = ((n-len(PosX))-negXposY)/(n-len(PosX))\n",
        "    H_negYnegX = - Prob_negYnegX * math.log2(Prob_negYnegX)\n",
        "\n",
        "  H_YposX = H_posYposX + H_negYposX\n",
        "  H_YnegX = H_posYnegX + H_negYnegX\n",
        "  H_YX = Prob_PosX * H_YposX + Prob_NegX * H_YnegX\n",
        "  \n",
        "  IG = H_Y - H_YX\n",
        "\n",
        "  if(IG < 0):\n",
        "    #print('error - IG<0: H_Y=',H_Y, ',H_YX=',H_YX)\n",
        "    IG = 0\n",
        "\n",
        "  return IG\n",
        "\n",
        "\n",
        "def getBestIG(data,d): # d is number of variables\n",
        "  IG = []\n",
        "  IG.append(0)\n",
        "  Y = data[:,0]\n",
        "  for i in range(1,d+1):\n",
        "    IG.append(InformationGain(data[:,i],Y))\n",
        "  #if IG.index(max(IG)) == 0:\n",
        "  #  return 1\n",
        "  return IG.index(max(IG))\n"
      ]
    },
    {
      "cell_type": "code",
      "execution_count": 7,
      "metadata": {
        "id": "5xXQynJoedo2"
      },
      "outputs": [],
      "source": [
        "class Node():\n",
        "  def __init__(self,d,y):\n",
        "    self.d = d      # X_d\n",
        "    self.y = y      # return value or threshold (not here)\n",
        "    self.left = None\n",
        "    self.right = None\n",
        "\n",
        "def decision_tree(data,d,size):\n",
        "  if len(data) <= size:\n",
        "    #print('stop since size')\n",
        "    value = np.sign(data[:,0].mean())\n",
        "    if value == 0: \n",
        "      value = 1\n",
        "    temp = Node(None,value)            # Node.y is the return value for terminal nodes\n",
        "    return temp\n",
        "\n",
        "  variable = getBestIG(data,d)         # the variable with highest IG\n",
        "  #print('variable=',variable)\n",
        "  if variable == 0:\n",
        "    value = np.sign(data[:,0].mean())\n",
        "    if value == 0: \n",
        "      value = 1                         # all IG are zero\n",
        "    return Node(None,value)\n",
        "  if np.all(data[:,0] == data[:,0][0]):               # y are same \n",
        "    #print('stop since y the same')\n",
        "    return Node(None,data[:,0][0])\n",
        "  if np.all(data[:,variable] == data[:,variable][0]): # early termination\n",
        "    #print('stop since early terminate')\n",
        "    value = np.sign(data[:,0].mean())\n",
        "    if value == 0: \n",
        "      value = 1\n",
        "    return Node(None,value)\n",
        "\n",
        "  Leftdata = data[data[:,variable] == -1]   # Left data are -1\n",
        "  Rightdata = data[data[:,variable] == 1]   # Right data are +1\n",
        "\n",
        "  root = Node(variable,0)\n",
        "  root.left = decision_tree(np.array(Leftdata),d,size)\n",
        "  root.right = decision_tree(np.array(Rightdata),d,size)\n",
        "  return root\n",
        "\n",
        "def predict_D_Y(tree,data):\n",
        "  ptr = tree\n",
        "  while ptr.d != None:\n",
        "    variable = ptr.d\n",
        "    if data[variable] == -1:\n",
        "      ptr = ptr.left\n",
        "    else:\n",
        "      ptr = ptr.right\n",
        "  if ptr.y == 0:\n",
        "    print('error - not terminated')\n",
        "  return ptr.y\n",
        "\n",
        "def predict_misclass(test,tree):\n",
        "  n = len(test)\n",
        "  Y_hat = []\n",
        "  for i in range(n):\n",
        "    Y_hat.append(predict_D_Y(tree,test[i]))\n",
        "  Missclass = Misclassification(test[:,0],Y_hat)\n",
        "  return Missclass"
      ]
    },
    {
      "cell_type": "code",
      "execution_count": null,
      "metadata": {
        "colab": {
          "base_uri": "https://localhost:8080/"
        },
        "id": "mWabx3O0EnV3",
        "outputId": "c4e0d3da-ff86-4221-e18b-3e1d142ed90a"
      },
      "outputs": [
        {
          "name": "stdout",
          "output_type": "stream",
          "text": [
            "[5000, 4000, 3200, 2560, 2048, 1638, 1310, 1048, 838, 670, 536, 428, 342, 273, 218, 174, 139, 111, 88, 70, 56, 44, 35, 28, 22, 17, 13, 10, 8, 6, 4, 3, 2]\n",
            "[2486, 1519, 1519, 1519, 1513, 1513, 1513, 884, 884, 884, 876, 876, 876, 0, 0, 0, 0, 0, 0, 0, 0, 0, 0, 0, 0, 0, 0, 0, 0, 0, 0, 0, 0]\n",
            "[251, 153, 153, 153, 152, 152, 152, 87, 87, 87, 106, 106, 106, 0, 0, 0, 0, 0, 0, 0, 0, 0, 0, 0, 0, 0, 0, 0, 0, 0, 0, 0, 0]\n",
            "optimal size is  273\n"
          ]
        }
      ],
      "source": [
        "train = data_generator(5000,15,0.05)\n",
        "test = data_generator(500,15,0.05)\n",
        "\n",
        "#find errors\n",
        "Errors_train = []\n",
        "Errors_test = []\n",
        "Size = []\n",
        "i = 5000\n",
        "while i > 1 :\n",
        "  DecisionTree = decision_tree(train,15,i)\n",
        "  error_train = predict_misclass(train,DecisionTree)\n",
        "  error_test = predict_misclass(test,DecisionTree)\n",
        "  Errors_train.append(error_train)\n",
        "  Errors_test.append(error_test)\n",
        "  Size.append(i)\n",
        "  #print('finish tree size =',i,' error = ',error_train, ',',error_test)\n",
        "  i = math.floor(i/1.25)\n",
        "\n",
        "print(Size)\n",
        "print(Errors_train)\n",
        "print(Errors_test)\n",
        "print('optimal size is ',Size[Errors_train.index(min(Errors_train))])\n"
      ]
    },
    {
      "cell_type": "code",
      "execution_count": null,
      "metadata": {
        "colab": {
          "base_uri": "https://localhost:8080/",
          "height": 283
        },
        "id": "n5rGxuMYNtRz",
        "outputId": "e18f5cd4-134c-45c1-f1e7-9e2bac124d0f"
      },
      "outputs": [
        {
          "data": {
            "text/plain": [
              "[<matplotlib.lines.Line2D at 0x7f2ccbc6e810>]"
            ]
          },
          "execution_count": 10,
          "metadata": {},
          "output_type": "execute_result"
        },
        {
          "data": {
            "image/png": "[encoded data removed]",
            "text/plain": [
              "<Figure size 432x288 with 1 Axes>"
            ]
          },
          "metadata": {
            "needs_background": "light"
          },
          "output_type": "display_data"
        }
      ],
      "source": [
        "plt.plot(Size,Errors_train, label = 'Error_train')"
      ]
    },
    {
      "cell_type": "code",
      "execution_count": null,
      "metadata": {
        "colab": {
          "base_uri": "https://localhost:8080/",
          "height": 283
        },
        "id": "LqQG4umfNwrp",
        "outputId": "ad09f5ef-0bdd-43bf-c1f4-89f4abc86360"
      },
      "outputs": [
        {
          "data": {
            "text/plain": [
              "[<matplotlib.lines.Line2D at 0x7f2ccbc21110>]"
            ]
          },
          "execution_count": 11,
          "metadata": {},
          "output_type": "execute_result"
        },
        {
          "data": {
            "image/png": "[encoded data removed]",
            "text/plain": [
              "<Figure size 432x288 with 1 Axes>"
            ]
          },
          "metadata": {
            "needs_background": "light"
          },
          "output_type": "display_data"
        }
      ],
      "source": [
        "plt.plot(Size,Errors_test, label = 'Error_test')"
      ]
    },
    {
      "cell_type": "markdown",
      "metadata": {
        "id": "fPRX2oLF-V5F"
      },
      "source": [
        "1.2"
      ]
    },
    {
      "cell_type": "code",
      "execution_count": 8,
      "metadata": {
        "id": "uANd3AWiYvYR"
      },
      "outputs": [],
      "source": [
        "def AvgOptimalSize(tries,std):\n",
        "  s = []\n",
        "  for i in range(tries):\n",
        "    #print('start at trying ',i)\n",
        "    train2 = data_generator(5000,15,std)\n",
        "    test2 = data_generator(500,15,std)\n",
        "    Errors_train = []\n",
        "    #Errors_test = []\n",
        "    Size = []\n",
        "    j = 5000\n",
        "    while j > 1 :\n",
        "      DecisionTree = decision_tree(train2,15,j)\n",
        "      error_train = predict_misclass(train2,DecisionTree)\n",
        "      error_test = predict_misclass(test2,DecisionTree)\n",
        "      Size.append(j)\n",
        "      Errors_train.append(error_train)\n",
        "      #print('finish tree size =',j,' error = ',error_train, ',',error_test)\n",
        "      j = math.floor(j/1.25)\n",
        "    s.append(Size[Errors_train.index(min(Errors_train))])\n",
        "    print('finish trying ',i,': the optimal size is ',Size[Errors_train.index(min(Errors_train))])\n",
        "\n",
        "  return np.mean(s)"
      ]
    },
    {
      "cell_type": "code",
      "execution_count": 15,
      "metadata": {
        "colab": {
          "base_uri": "https://localhost:8080/"
        },
        "id": "_qfTzAX3qMcK",
        "outputId": "8a3fca81-20bc-40f2-b867-1da25cfad57b"
      },
      "outputs": [
        {
          "name": "stdout",
          "output_type": "stream",
          "text": [
            "finish trying  0 : the optimal size is  218\n",
            "finish trying  1 : the optimal size is  273\n",
            "finish trying  2 : the optimal size is  273\n",
            "finish trying  3 : the optimal size is  273\n",
            "finish trying  4 : the optimal size is  218\n",
            "finish trying  5 : the optimal size is  273\n",
            "finish trying  6 : the optimal size is  273\n",
            "finish trying  7 : the optimal size is  273\n",
            "finish trying  8 : the optimal size is  273\n",
            "finish trying  9 : the optimal size is  273\n",
            "the average optimal sample size is 262.0\n"
          ]
        }
      ],
      "source": [
        "s = AvgOptimalSize(10,0.05)\n",
        "print('the average optimal sample size is',s)"
      ]
    },
    {
      "cell_type": "markdown",
      "metadata": {
        "id": "TQcyB9T3Chdz"
      },
      "source": [
        "1.3"
      ]
    },
    {
      "cell_type": "code",
      "execution_count": 10,
      "metadata": {
        "colab": {
          "base_uri": "https://localhost:8080/"
        },
        "id": "i_E76yqwCg4I",
        "outputId": "1093b52e-2e36-4957-8360-8adbb359677d"
      },
      "outputs": [
        {
          "name": "stdout",
          "output_type": "stream",
          "text": [
            "[0.01, 0.03, 0.05, 0.07, 0.09, 0.11, 0.13, 0.15, 0.17, 0.19, 0.21, 0.23, 0.25, 0.27, 0.29, 0.31, 0.33, 0.35, 0.37, 0.39, 0.41, 0.43, 0.45, 0.47, 0.49, 0.51, 0.53, 0.55, 0.57, 0.59, 0.61, 0.63, 0.65, 0.67, 0.69, 0.71, 0.73, 0.75, 0.77, 0.79, 0.81, 0.83, 0.85, 0.87, 0.89, 0.91, 0.93, 0.95, 0.97, 0.99]\n",
            "[0, 0, 0, 0, 2, 4, 127, 5, 23, 18, 41, 61, 53, 84, 108, 120, 126, 143, 176, 193, 192, 221, 235, 270, 290, 326, 333, 377, 364, 399, 417, 430, 436, 502, 528, 528, 567, 538, 588, 630, 605, 656, 625, 595, 685, 687, 767, 757, 714, 768]\n",
            "[0, 0, 0, 0, 0, 0, 21, 1, 1, 3, 3, 5, 10, 12, 7, 4, 15, 13, 21, 23, 18, 27, 29, 33, 32, 37, 38, 42, 30, 44, 48, 52, 44, 46, 47, 46, 53, 70, 51, 72, 47, 70, 71, 58, 64, 55, 62, 78, 70, 67]\n"
          ]
        }
      ],
      "source": [
        "std = 0.01\n",
        "Std = []\n",
        "Errors_train = []\n",
        "Errors_test = []\n",
        "while std < 1:\n",
        "  Std.append(std)\n",
        "  train3 = data_generator(5000,15,std)\n",
        "  test3 = data_generator(500,15,std)\n",
        "  DecisionTree = decision_tree(train3,15,s)\n",
        "  error_train = predict_misclass(train3,DecisionTree)\n",
        "  error_test = predict_misclass(test3,DecisionTree)\n",
        "  Errors_train.append(error_train)\n",
        "  Errors_test.append(error_test)\n",
        "  #print('finished std = ', std)\n",
        "  std += 0.02\n",
        "  std = round(std, 2)\n",
        "\n",
        "print(Std)\n",
        "print(Errors_train)\n",
        "print(Errors_test)"
      ]
    },
    {
      "cell_type": "code",
      "execution_count": 11,
      "metadata": {
        "colab": {
          "base_uri": "https://localhost:8080/",
          "height": 283
        },
        "id": "kUw0hFc3OD9A",
        "outputId": "57703a0a-b8dd-433b-b984-42c7e625091d"
      },
      "outputs": [
        {
          "data": {
            "text/plain": [
              "[<matplotlib.lines.Line2D at 0x1ee4649dbb0>]"
            ]
          },
          "execution_count": 11,
          "metadata": {},
          "output_type": "execute_result"
        },
        {
          "data": {
            "image/png": "[encoded data removed]",
            "text/plain": [
              "<Figure size 432x288 with 1 Axes>"
            ]
          },
          "metadata": {
            "needs_background": "light"
          },
          "output_type": "display_data"
        }
      ],
      "source": [
        "plt.plot(Std,Errors_train, label = 'Error_train')"
      ]
    },
    {
      "cell_type": "code",
      "execution_count": 12,
      "metadata": {
        "colab": {
          "base_uri": "https://localhost:8080/",
          "height": 283
        },
        "id": "_hOnww_wOI8L",
        "outputId": "f41c7c03-b471-4280-87c1-541041728f6a"
      },
      "outputs": [
        {
          "data": {
            "text/plain": [
              "[<matplotlib.lines.Line2D at 0x1ee4856dd90>]"
            ]
          },
          "execution_count": 12,
          "metadata": {},
          "output_type": "execute_result"
        },
        {
          "data": {
            "image/png": "[encoded data removed]",
            "text/plain": [
              "<Figure size 432x288 with 1 Axes>"
            ]
          },
          "metadata": {
            "needs_background": "light"
          },
          "output_type": "display_data"
        }
      ],
      "source": [
        "plt.plot(Std,Errors_test, label = 'Error_test')"
      ]
    },
    {
      "cell_type": "markdown",
      "metadata": {
        "id": "CWZTfF8hORk9"
      },
      "source": [
        "1.4"
      ]
    },
    {
      "cell_type": "code",
      "execution_count": 16,
      "metadata": {
        "id": "6JjdZiowORIY"
      },
      "outputs": [],
      "source": [
        "def decision_tree_IR(data,d,size):\n",
        "  if len(data) <= size:\n",
        "    #print('stop since size')\n",
        "    value = np.sign(data[:,0].mean())\n",
        "    if value == 0: \n",
        "      value = 1\n",
        "    temp = Node(None,value)            # Node.y is the return value for terminal nodes\n",
        "    return temp,0\n",
        "  count = 0\n",
        "  variable = getBestIG(data,d)         # the variable with highest IG\n",
        "  if variable > 5:    # variable > 5 is irrelevent\n",
        "    count += 1  \n",
        "\n",
        "  if variable == 0:                    # all IG are zero\n",
        "    return Node(None,np.sign(data[:,0].mean())),count\n",
        "  #print('variable=',variable)\n",
        "  if np.all(data[:,0] == data[:,0][0]):                # y are same \n",
        "    #print('stop since y the same')\n",
        "    return Node(None,data[:,0][0]),count\n",
        "  if np.all(data[:,variable] == data[:,variable][0]):  # early termination\n",
        "    #print('stop since early terminate')\n",
        "    value = np.sign(data[:,0].mean())\n",
        "    if value == 0: \n",
        "      value = 1\n",
        "    return Node(None,value),count\n",
        "\n",
        "  Leftdata = data[data[:,variable] == -1]   # Left data are -1\n",
        "  Rightdata = data[data[:,variable] == 1]   # Right data are +1\n",
        "\n",
        "  root = Node(variable,0)\n",
        "  root.left,temp = decision_tree_IR(np.array(Leftdata),d,size)\n",
        "  count += temp\n",
        "  root.right,temp = decision_tree_IR(np.array(Rightdata),d,size)\n",
        "  count += temp\n",
        "  return root,count"
      ]
    },
    {
      "cell_type": "code",
      "execution_count": null,
      "metadata": {
        "colab": {
          "base_uri": "https://localhost:8080/"
        },
        "id": "mmycIiOPQWuz",
        "outputId": "6e2576ed-fe33-41b3-a18f-1f86a0ed8f35"
      },
      "outputs": [],
      "source": [
        "std = 0.01\n",
        "Std = []\n",
        "Errors_train = []\n",
        "Errors_test = []\n",
        "IR_count = []\n",
        "while std <= 3:\n",
        "  Std.append(std)\n",
        "  train4 = data_generator(5000,15,std)\n",
        "  test4 = data_generator(500,15,std)\n",
        "  DecisionTree,count = decision_tree_IR(train4,15,s)\n",
        "  IR_count.append(count)\n",
        "  error_train = predict_misclass(train4,DecisionTree)\n",
        "  error_test = predict_misclass(test4,DecisionTree)\n",
        "  Errors_train.append(error_train)\n",
        "  Errors_test.append(error_test)\n",
        "  #print('finished std = ', std)\n",
        "  std += 0.02\n",
        "  std = round(std, 2)\n",
        "\n",
        "print(Std)\n",
        "print(IR_count)\n",
        "print(Errors_train)\n",
        "print(Errors_test)"
      ]
    },
    {
      "cell_type": "code",
      "execution_count": 33,
      "metadata": {
        "colab": {
          "base_uri": "https://localhost:8080/",
          "height": 283
        },
        "id": "kACgc7ukR0Z7",
        "outputId": "27c1b5dd-0f38-4eeb-9c83-90830987318b"
      },
      "outputs": [
        {
          "data": {
            "text/plain": [
              "[<matplotlib.lines.Line2D at 0x1ee49beeaf0>]"
            ]
          },
          "execution_count": 33,
          "metadata": {},
          "output_type": "execute_result"
        },
        {
          "data": {
            "image/png": "[encoded data removed]",
            "text/plain": [
              "<Figure size 432x288 with 1 Axes>"
            ]
          },
          "metadata": {
            "needs_background": "light"
          },
          "output_type": "display_data"
        }
      ],
      "source": [
        "plt.plot(Std,IR_count, label = 'irrelevant feature')"
      ]
    }
  ],
  "metadata": {
    "colab": {
      "provenance": []
    },
    "kernelspec": {
      "display_name": "Python 3.9.7 64-bit",
      "language": "python",
      "name": "python3"
    },
    "language_info": {
      "codemirror_mode": {
        "name": "ipython",
        "version": 3
      },
      "file_extension": ".py",
      "mimetype": "text/x-python",
      "name": "python",
      "nbconvert_exporter": "python",
      "pygments_lexer": "ipython3",
      "version": "3.9.7"
    },
    "vscode": {
      "interpreter": {
        "hash": "a88ded6f4245aea86749347c0c5fd5051378318ea0a8914dbb4274cd7232cb5a"
      }
    }
  },
  "nbformat": 4,
  "nbformat_minor": 0
}
