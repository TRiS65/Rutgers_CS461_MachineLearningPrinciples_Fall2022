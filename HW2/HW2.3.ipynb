{
  "cells": [
    {
      "cell_type": "code",
      "execution_count": 1,
      "metadata": {
        "id": "912nldduiAVE"
      },
      "outputs": [],
      "source": [
        "import numpy as np\n",
        "import math\n",
        "import matplotlib.pyplot as plt\n",
        "from sympy import *"
      ]
    },
    {
      "cell_type": "markdown",
      "metadata": {
        "id": "QfZY8oQWYLPR"
      },
      "source": [
        "3 Support Vector Machines"
      ]
    },
    {
      "cell_type": "code",
      "execution_count": 3,
      "metadata": {
        "id": "kpq118sjiTH6"
      },
      "outputs": [],
      "source": [
        "X = np.array([[-1,-1],[1,-1],[-1,1],[1,1]])\n",
        "Y = np.array([-1,1,1,-1])"
      ]
    },
    {
      "cell_type": "code",
      "execution_count": 4,
      "metadata": {
        "colab": {
          "base_uri": "https://localhost:8080/"
        },
        "id": "nk2ts2uBfrmf",
        "outputId": "740f8d4e-cada-4e8e-d6d3-470806dc539a"
      },
      "outputs": [
        {
          "name": "stdout",
          "output_type": "stream",
          "text": [
            "[[9, 1, 1, 1], [1, 9, 1, 1], [1, 1, 9, 1], [1, 1, 1, 9]]\n"
          ]
        }
      ],
      "source": [
        "# Choose quadratic kernel (polynomial with d = 2, c = 1)\n",
        "K = []\n",
        "for i in range(4):\n",
        "  Ki = []\n",
        "  for j in range(4):\n",
        "    temp = (1 + np.dot(X[i],X[j])) ** 2\n",
        "    Ki.append(temp)\n",
        "  K.append(Ki)\n",
        "print(K)\n"
      ]
    },
    {
      "cell_type": "code",
      "execution_count": 5,
      "metadata": {
        "id": "KTTQg-YEg1Qm"
      },
      "outputs": [],
      "source": [
        "# solve for the alpha that would maximize the function\n",
        "a1,a2,a3,a4 = symbols('a1,a2,a3,a4',real=True)\n",
        "\n",
        "A = [a1,a2,a3,a4]\n",
        "M = 0\n",
        "for i in range(4):\n",
        "  for j in range (4):\n",
        "    M += A[i] * Y[i] * K[i][j] * Y[j] * A[j]\n",
        "M = a1+a2+a3+a4 - (0.5) * M\n",
        "\n",
        "Answer = solve([M.diff(a1),M.diff(a2),M.diff(a3),M.diff(a4)],[a1,a2,a3,a4])\n",
        "\n",
        "for i in range(len(A)):\n",
        "  A[i] = Answer[A[i]]\n",
        "A = np.array(A)\n",
        "#nonlinsolve([M.diff(a1),M.diff(a2),M.diff(a3),M.diff(a4)],[a1,a2,a3,a4])"
      ]
    },
    {
      "cell_type": "code",
      "execution_count": 6,
      "metadata": {
        "id": "QyOcoS0lC82g"
      },
      "outputs": [],
      "source": [
        "# find optimal w and b\n",
        "w = 0\n",
        "for i in range(4): \n",
        "  w += A[i]*Y[i]*X[i]\n",
        "b = Y - np.dot(X,w)"
      ]
    },
    {
      "cell_type": "code",
      "execution_count": 7,
      "metadata": {
        "id": "2kFkZIvIQz_n"
      },
      "outputs": [],
      "source": [
        "# put T = [x1,x2] inside and return y\n",
        "def SVM(T): \n",
        "  svm = 0\n",
        "  for i in range(4): \n",
        "    K = (1+np.dot(X[i],T))**2\n",
        "    svm += A[i] * Y[i] * K + b[i]\n",
        "  return sign(svm)"
      ]
    },
    {
      "cell_type": "code",
      "execution_count": 8,
      "metadata": {
        "id": "xO1OnbGTNVL0"
      },
      "outputs": [],
      "source": [
        "# plotting SVM\n",
        "i = -5\n",
        "j = -5\n",
        "plane = []\n",
        "positive = []\n",
        "negative = []\n",
        "zero = []\n",
        "while i <= 5:\n",
        "  j = -5\n",
        "  while j <= 5:\n",
        "    #print([i,j])\n",
        "    svm = SVM([i,j])\n",
        "    if svm == 1:\n",
        "      positive.append([i,j])\n",
        "    elif svm == -1:\n",
        "      negative.append([i,j])\n",
        "    else: \n",
        "      zero.append([i,j])\n",
        "    j += 0.05\n",
        "    j = round(j, 2)\n",
        "  i += 0.05\n",
        "  i = round(i, 2)"
      ]
    },
    {
      "cell_type": "code",
      "execution_count": 9,
      "metadata": {
        "colab": {
          "base_uri": "https://localhost:8080/",
          "height": 265
        },
        "id": "dS0o6o-Eb5c4",
        "outputId": "19660f27-a3ce-4f97-9501-932b6ad9bd25"
      },
      "outputs": [
        {
          "data": {
            "image/png": "[encoded data removed]",
            "text/plain": [
              "<Figure size 432x288 with 1 Axes>"
            ]
          },
          "metadata": {
            "needs_background": "light"
          },
          "output_type": "display_data"
        }
      ],
      "source": [
        "positive = np.array(positive)\n",
        "negative = np.array(negative)\n",
        "zero = np.array(zero)\n",
        "plt.scatter(positive[:,0], positive[:,1], c = 'cornflowerblue',label='postive', s = 2)\n",
        "plt.scatter(negative[:,0], negative[:,1], c = 'mediumpurple',label='negative', s = 2)\n",
        "plt.scatter(zero[:,0], zero[:,1], c = 'ghostwhite',label='no classiffied', s = 2)\n",
        "plt.legend(loc = 'lower right')\n",
        "plt.show()"
      ]
    }
  ],
  "metadata": {
    "colab": {
      "provenance": []
    },
    "kernelspec": {
      "display_name": "Python 3.9.7 64-bit",
      "language": "python",
      "name": "python3"
    },
    "language_info": {
      "codemirror_mode": {
        "name": "ipython",
        "version": 3
      },
      "file_extension": ".py",
      "mimetype": "text/x-python",
      "name": "python",
      "nbconvert_exporter": "python",
      "pygments_lexer": "ipython3",
      "version": "3.9.7"
    },
    "vscode": {
      "interpreter": {
        "hash": "a88ded6f4245aea86749347c0c5fd5051378318ea0a8914dbb4274cd7232cb5a"
      }
    }
  },
  "nbformat": 4,
  "nbformat_minor": 0
}
