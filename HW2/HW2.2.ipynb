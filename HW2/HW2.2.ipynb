{
  "cells": [
    {
      "cell_type": "code",
      "execution_count": 2,
      "metadata": {
        "id": "912nldduiAVE"
      },
      "outputs": [],
      "source": [
        "import numpy as np\n",
        "import math\n",
        "import matplotlib.pyplot as plt\n",
        "import random as rd"
      ]
    },
    {
      "cell_type": "markdown",
      "metadata": {
        "id": "QfZY8oQWYLPR"
      },
      "source": [
        "2 Logistic Regression"
      ]
    },
    {
      "cell_type": "markdown",
      "metadata": {
        "id": "K45OCMMxX0Hg"
      },
      "source": [
        "2.1"
      ]
    },
    {
      "cell_type": "code",
      "execution_count": 3,
      "metadata": {
        "id": "kpq118sjiTH6"
      },
      "outputs": [],
      "source": [
        "def data_generator(n,d,std):\n",
        "  if d<5: \n",
        "    return \n",
        "  data = []\n",
        "  for i in range(n):  \n",
        "    temp = [0]          # first column remain for Y\n",
        "    for i in range(d):  # X_i\n",
        "      temp.append((-1)**(np.random.binomial(1,0.5))) \n",
        "    Check = 0\n",
        "    for i in range(1,6):\n",
        "      Check += 0.9**i * temp[i]\n",
        "    Check += np.random.normal(loc=0,scale=std)\n",
        "    if Check > 0:\n",
        "      temp[0] = 1\n",
        "    else:\n",
        "      temp[0] = 0\n",
        "    data.append(temp)\n",
        "  return np.array(data)"
      ]
    },
    {
      "cell_type": "code",
      "execution_count": 4,
      "metadata": {
        "id": "WtUPHsLBLs52"
      },
      "outputs": [],
      "source": [
        "def InformationGain(X,Y):\n",
        "  n = len(Y)\n",
        "  PosX = 0\n",
        "  PosY = 0\n",
        "  posXposY = 0\n",
        "  negXposY = 0\n",
        "\n",
        "  PosX = X[X==1]\n",
        "  Prob_PosX = len(PosX)/n\n",
        "  Prob_NegX = 1 - Prob_PosX\n",
        "\n",
        "  PosY = Y[Y==1]\n",
        "  Prob_PosY = len(PosY)/n\n",
        "  Prob_NegY = 1 - Prob_PosY\n",
        "\n",
        "  H_posY = 0\n",
        "  H_negY = 0\n",
        "  if Prob_PosY != 0:\n",
        "    H_posY = - Prob_PosY * math.log2(Prob_PosY)\n",
        "  if Prob_NegY != 0: \n",
        "    H_negY = - Prob_NegY * math.log2(Prob_NegY)\n",
        "  H_Y = H_posY + H_negY\n",
        "\n",
        "  for i in range(n):\n",
        "    if Y[i] > 0: \n",
        "      if X[i] > 0: \n",
        "        posXposY += 1\n",
        "      else:  \n",
        "        negXposY += 1\n",
        "\n",
        "  H_posYposX = 0\n",
        "  if posXposY != 0:\n",
        "    Prob_posYposX = posXposY/len(PosX)\n",
        "    H_posYposX = - Prob_posYposX * math.log2(Prob_posYposX)\n",
        "  H_negYposX = 0\n",
        "  if len(PosX)-posXposY != 0:         # negative Y and positive X: len(PosX) is number of postive X\n",
        "    Prob_negYposX = (len(PosX)-posXposY)/len(PosX)\n",
        "    H_negYposX = - Prob_negYposX * math.log2(Prob_negYposX)\n",
        "  H_posYnegX = 0\n",
        "  if negXposY != 0:\n",
        "    Prob_posYnegX = negXposY/(n-len(PosX))\n",
        "    H_posYnegX = - Prob_posYnegX * math.log2(Prob_posYnegX)\n",
        "  H_negYnegX = 0\n",
        "  if ((n-len(PosX))-negXposY) != 0:      # negative Y and negative X: n-len(PosX) is number of negative X\n",
        "    Prob_negYnegX = ((n-len(PosX))-negXposY)/(n-len(PosX))\n",
        "    H_negYnegX = - Prob_negYnegX * math.log2(Prob_negYnegX)\n",
        "\n",
        "  H_YposX = H_posYposX + H_negYposX\n",
        "  H_YnegX = H_posYnegX + H_negYnegX\n",
        "  H_YX = Prob_PosX * H_YposX + Prob_NegX * H_YnegX\n",
        "  \n",
        "  IG = H_Y - H_YX\n",
        "\n",
        "  if(IG < 0):\n",
        "    #print('error - IG<0: H_Y=',H_Y, ',H_YX=',H_YX)\n",
        "    IG = 0\n",
        "\n",
        "  return IG\n",
        "\n",
        "\n",
        "def getBestIG(data,d): # d is number of variables\n",
        "  IG = []\n",
        "  IG.append(0)\n",
        "  Y = data[:,0]\n",
        "  for i in range(1,d+1):\n",
        "    IG.append(InformationGain(data[:,i],Y))\n",
        "  #if IG.index(max(IG)) == 0:\n",
        "  #  return 1\n",
        "  return IG.index(max(IG))\n"
      ]
    },
    {
      "cell_type": "code",
      "execution_count": 5,
      "metadata": {
        "id": "5xXQynJoedo2"
      },
      "outputs": [],
      "source": [
        "class Node():\n",
        "  def __init__(self,d,y):\n",
        "    self.d = d      # X_d\n",
        "    self.y = y      # return value or threshold (not here)\n",
        "    self.left = None\n",
        "    self.right = None"
      ]
    },
    {
      "cell_type": "code",
      "execution_count": null,
      "metadata": {
        "id": "dcABokskYFda"
      },
      "outputs": [],
      "source": [
        "def getPosFraction(data):\n",
        "  n = len(data)\n",
        "  cnt = len(data[data[:,0] == 1])\n",
        "  return cnt/n\n",
        "\n",
        "def logistic_tree(data,d,size):\n",
        "  if len(data) <= size:\n",
        "    #print('stop since size')\n",
        "    value = getPosFraction(data)\n",
        "    temp = Node(None,value)    # Node.y is the return value for terminal nodes\n",
        "    return temp\n",
        "\n",
        "  variable = getBestIG(data,d)         # the variable with highest IG\n",
        "  #print('variable=',variable)\n",
        "  if variable == 0:  \n",
        "    value = getPosFraction(data)           # all IG are zero\n",
        "    return Node(None,value)\n",
        "  if np.all(data[:,0] == data[:,0][0]):        # y are same \n",
        "    #print('stop since y the same')\n",
        "    if data[:,0][0] == 1: \n",
        "      value = 1\n",
        "    else:\n",
        "      value = 0\n",
        "    return Node(None,value)\n",
        "  if np.all(data[:,variable] == data[:,variable][0]): # early termination\n",
        "    #print('stop since early terminate')\n",
        "    value = getPosFraction(data)\n",
        "    return Node(None,value)\n",
        "\n",
        "  Leftdata = data[data[:,variable] == -1]   # Left data are -1\n",
        "  Rightdata = data[data[:,variable] == 1]   # Right data are +1\n",
        "\n",
        "  root = Node(variable,0)\n",
        "  root.left = logistic_tree(np.array(Leftdata),d,size)\n",
        "  root.right = logistic_tree(np.array(Rightdata),d,size)\n",
        "  return root"
      ]
    },
    {
      "cell_type": "code",
      "execution_count": null,
      "metadata": {
        "id": "K4NC68GjikA6"
      },
      "outputs": [],
      "source": [
        "def predict_D_Y(tree,data):\n",
        "  ptr = tree\n",
        "  while ptr.d != None:\n",
        "    variable = ptr.d\n",
        "    if data[variable] == -1:\n",
        "      ptr = ptr.left\n",
        "    else:\n",
        "      ptr = ptr.right\n",
        "  return ptr.y\n",
        "\n",
        "def predict_log_error(test,tree):\n",
        "  m = len(test)\n",
        "  error = 0\n",
        "  for i in range(m):\n",
        "    w = predict_D_Y(tree,test[i])\n",
        "    \n",
        "    if w == 0:\n",
        "      if test[i][0] == 1: \n",
        "        temp = 10\n",
        "      else: \n",
        "        temp = 0\n",
        "    elif w == 1 : \n",
        "      if (1-test[i][0]) == 1: \n",
        "        temp = 10\n",
        "      else: \n",
        "        temp = 0\n",
        "    else: \n",
        "      temp = - test[i][0] * np.log(w)-(1-test[i][0]) * np.log(1-w)\n",
        "    error += temp\n",
        "    \n",
        "  return error / m"
      ]
    },
    {
      "cell_type": "code",
      "execution_count": null,
      "metadata": {
        "colab": {
          "base_uri": "https://localhost:8080/"
        },
        "id": "WIhDe90xamMF",
        "outputId": "17995459-a200-464f-b145-3bdfe8feb48d"
      },
      "outputs": [
        {
          "name": "stdout",
          "output_type": "stream",
          "text": [
            "[5000, 4000, 3200, 2560, 2048, 1638, 1310, 1048, 838, 670, 536, 428, 342, 273, 218, 174, 139, 111, 88, 70, 56, 44, 35, 28, 22, 17, 13, 10, 8, 6, 4, 3, 2]\n",
            "[0.6930491773583193, 0.617246722346849, 0.617246722346849, 0.617246722346849, 0.5270420315301173, 0.5270420315301173, 0.5270420315301173, 0.4080290078334443, 0.4080290078334443, 0.4080290078334443, 0.24992294171139065, 0.24992294171139065, 0.24992294171139065, 0.0, 0.0, 0.0, 0.0, 0.0, 0.0, 0.0, 0.0, 0.0, 0.0, 0.0, 0.0, 0.0, 0.0, 0.0, 0.0, 0.0, 0.0, 0.0, 0.0]\n",
            "[0.6931331828470028, 0.627101806359531, 0.627101806359531, 0.627101806359531, 0.5524195733042271, 0.5524195733042271, 0.5524195733042271, 0.44613868718627714, 0.44613868718627714, 0.44613868718627714, 0.2773071031943125, 0.2773071031943125, 0.2773071031943125, 0.0, 0.0, 0.0, 0.0, 0.0, 0.0, 0.0, 0.0, 0.0, 0.0, 0.0, 0.0, 0.0, 0.0, 0.0, 0.0, 0.0, 0.0, 0.0, 0.0]\n",
            "optimal size is  273\n"
          ]
        }
      ],
      "source": [
        "train21 = data_generator(5000,15,0.05)\n",
        "test21 = data_generator(500,15,0.05)\n",
        "\n",
        "#find errors\n",
        "Errors_train21 = []\n",
        "Errors_test21 = []\n",
        "Size = []\n",
        "i = 5000\n",
        "while i > 1 :\n",
        "  DecisionTree = logistic_tree(train21,15,i)\n",
        "  error_train = predict_log_error(train21,DecisionTree)\n",
        "  error_test = predict_log_error(test21,DecisionTree)\n",
        "  Errors_train21.append(error_train)\n",
        "  Errors_test21.append(error_test)\n",
        "  Size.append(i)\n",
        "  #print('finish tree size =',i,' error = ',error_train, ',',error_test)\n",
        "  i = math.floor(i/1.25)\n",
        "\n",
        "print(Size)\n",
        "print(Errors_train21)\n",
        "print(Errors_test21)\n",
        "print('optimal size is ',Size[Errors_train21.index(min(Errors_train21))])"
      ]
    },
    {
      "cell_type": "code",
      "execution_count": null,
      "metadata": {
        "colab": {
          "base_uri": "https://localhost:8080/",
          "height": 283
        },
        "id": "q5a9CT97bLrA",
        "outputId": "6d968f84-f259-40d3-c36d-d2336fb9e617"
      },
      "outputs": [
        {
          "data": {
            "text/plain": [
              "[<matplotlib.lines.Line2D at 0x7f8c654f2050>]"
            ]
          },
          "execution_count": 8,
          "metadata": {},
          "output_type": "execute_result"
        },
        {
          "data": {
            "image/png": "[encoded data removed]",
            "text/plain": [
              "<Figure size 432x288 with 1 Axes>"
            ]
          },
          "metadata": {
            "needs_background": "light"
          },
          "output_type": "display_data"
        }
      ],
      "source": [
        "plt.plot(Size,Errors_train21)"
      ]
    },
    {
      "cell_type": "code",
      "execution_count": null,
      "metadata": {
        "colab": {
          "base_uri": "https://localhost:8080/",
          "height": 283
        },
        "id": "dlS37D6agjLg",
        "outputId": "3f7e7995-a672-4a93-8cdd-bf2ce96b30cb"
      },
      "outputs": [
        {
          "data": {
            "text/plain": [
              "[<matplotlib.lines.Line2D at 0x7f8c6554d990>]"
            ]
          },
          "execution_count": 9,
          "metadata": {},
          "output_type": "execute_result"
        },
        {
          "data": {
            "image/png": "[encoded data removed]",
            "text/plain": [
              "<Figure size 432x288 with 1 Axes>"
            ]
          },
          "metadata": {
            "needs_background": "light"
          },
          "output_type": "display_data"
        }
      ],
      "source": [
        "plt.plot(Size,Errors_test21)"
      ]
    },
    {
      "cell_type": "markdown",
      "metadata": {
        "id": "_221upruEYcQ"
      },
      "source": [
        "2.2"
      ]
    },
    {
      "cell_type": "code",
      "execution_count": 6,
      "metadata": {
        "id": "JEMJC_nxvJ3z"
      },
      "outputs": [],
      "source": [
        "def sigmoid(w,x):         # sigmoid function\n",
        "  power = - np.dot(w,x)\n",
        "  F = 1/(1 + math.exp(power))\n",
        "  return F\n",
        "\n",
        "def log_error(w,X,Y):     # logistic error\n",
        "  m = len(X)\n",
        "  error = 0\n",
        "  for i in range(m):\n",
        "    F = sigmoid(w,X[i])\n",
        "    temp = - Y[i]*np.log(F) - (1-Y[i])*np.log(1-F)\n",
        "    error += temp\n",
        "  return error / m"
      ]
    },
    {
      "cell_type": "code",
      "execution_count": 7,
      "metadata": {
        "id": "mEP4A4zcoaG0"
      },
      "outputs": [],
      "source": [
        "def findSGD(start,X,Y,alpha,iteration):\n",
        "  k = 0\n",
        "  current = start\n",
        "  i = rd.choice(range(len(Y)))\n",
        "  next = start-alpha*(sigmoid(current,X[i])-Y[i])*X[i]\n",
        "  while k < iteration: \n",
        "    #print('current is ',current,', diff = ',np.linalg.norm(next - current))\n",
        "    if isinstance(next[0], complex):\n",
        "      break\n",
        "    current = next\n",
        "    i = rd.choice(range(len(Y)))\n",
        "    next = current - alpha * (sigmoid(current,X[i])-Y[i]) * X[i] \n",
        "    k += 1\n",
        "  return current,log_error(current,X,Y)"
      ]
    },
    {
      "cell_type": "code",
      "execution_count": 44,
      "metadata": {
        "colab": {
          "base_uri": "https://localhost:8080/"
        },
        "id": "2O-zjzBRFVgN",
        "outputId": "20c90ee1-f6d2-406c-d89e-04c9fd323b78"
      },
      "outputs": [
        {
          "name": "stderr",
          "output_type": "stream",
          "text": [
            "C:\\Users\\trisc\\AppData\\Local\\Temp/ipykernel_23200/3604022411.py:11: RuntimeWarning: divide by zero encountered in log\n",
            "  temp = - Y[i]*np.log(F) - (1-Y[i])*np.log(1-F)\n",
            "C:\\Users\\trisc\\AppData\\Local\\Temp/ipykernel_23200/3604022411.py:11: RuntimeWarning: invalid value encountered in double_scalars\n",
            "  temp = - Y[i]*np.log(F) - (1-Y[i])*np.log(1-F)\n"
          ]
        }
      ],
      "source": [
        "train22 = data_generator(5000,15,0.05)\n",
        "test22 = data_generator(500,15,0.05)\n",
        "variable = 15\n",
        "\n",
        "X = [ row[1:] for row in train22 ]\n",
        "X = np.hstack((np.ones((5000,1)),X))\n",
        "Y = [ row[0] for row in train22 ]\n",
        "\n",
        "X_test = [ row[1:] for row in test22 ]\n",
        "X_test = np.hstack((np.ones((500,1)),X_test))\n",
        "Y_test = [ row[0] for row in test22 ]\n",
        "\n",
        "alpha = 1\n",
        "\n",
        "w = []\n",
        "Errors_train22 = []\n",
        "Errors_test22 = []\n",
        "\n",
        "w0 = np.zeros(variable+1)\n",
        "\n",
        "for i in range(10000):\n",
        "  #print('start = ',i)\n",
        "  #w0 = np.random.rand(variable+1)\n",
        "  wt,error_train = findSGD(w0,X,Y,alpha,i)\n",
        "  error_test = log_error(wt,X_test,Y_test)\n",
        "  w.append(wt)\n",
        "  Errors_train22.append(error_train)\n",
        "  Errors_test22.append(error_test)\n",
        "\n",
        "#print(Errors_train22)\n",
        "#print(Errors_test22)"
      ]
    },
    {
      "cell_type": "code",
      "execution_count": 45,
      "metadata": {
        "colab": {
          "base_uri": "https://localhost:8080/"
        },
        "id": "ogWtzQy3Zh-7",
        "outputId": "3b5efb7c-0716-4868-b883-acf8c0cc8533"
      },
      "outputs": [
        {
          "name": "stdout",
          "output_type": "stream",
          "text": [
            "[ 2.01125548e-02  7.35246904e+00  7.32076051e+00  7.34265940e+00\n",
            "  7.28181503e+00  7.31027226e+00 -6.16039037e-03  8.42541707e-03\n",
            " -1.05080868e-02 -1.80760143e-02 -2.08307175e-02  7.56712404e-03\n",
            "  6.74167433e-03 -7.26904660e-04 -1.40351700e-02  6.33858040e-03]\n",
            "7471 0.00041500878812144297\n"
          ]
        }
      ],
      "source": [
        "wb = w[Errors_train22.index(min(Errors_train22))]\n",
        "print(wb)\n",
        "index = Errors_train22.index(min(Errors_train22))\n",
        "print(index,Errors_train22[index])"
      ]
    },
    {
      "cell_type": "code",
      "execution_count": 58,
      "metadata": {
        "colab": {
          "base_uri": "https://localhost:8080/",
          "height": 283
        },
        "id": "fSsRNHOj7F_8",
        "outputId": "f5587fbe-5fd4-44fa-a030-b781da280c77"
      },
      "outputs": [
        {
          "data": {
            "text/plain": [
              "<matplotlib.collections.PathCollection at 0x2938c7206d0>"
            ]
          },
          "execution_count": 58,
          "metadata": {},
          "output_type": "execute_result"
        },
        {
          "data": {
            "image/png": "[encoded data removed]",
            "text/plain": [
              "<Figure size 432x288 with 1 Axes>"
            ]
          },
          "metadata": {
            "needs_background": "light"
          },
          "output_type": "display_data"
        }
      ],
      "source": [
        "plt.scatter(range(1000),Errors_train22[:1000],s=0.5)"
      ]
    },
    {
      "cell_type": "code",
      "execution_count": 59,
      "metadata": {},
      "outputs": [
        {
          "data": {
            "text/plain": [
              "<matplotlib.collections.PathCollection at 0x2938c780790>"
            ]
          },
          "execution_count": 59,
          "metadata": {},
          "output_type": "execute_result"
        },
        {
          "data": {
            "image/png": "[encoded data removed]",
            "text/plain": [
              "<Figure size 432x288 with 1 Axes>"
            ]
          },
          "metadata": {
            "needs_background": "light"
          },
          "output_type": "display_data"
        }
      ],
      "source": [
        "plt.scatter(range(1000),Errors_test22[:1000],s=0.5)"
      ]
    },
    {
      "cell_type": "code",
      "execution_count": 63,
      "metadata": {},
      "outputs": [
        {
          "data": {
            "text/plain": [
              "[<matplotlib.lines.Line2D at 0x2938c598190>]"
            ]
          },
          "execution_count": 63,
          "metadata": {},
          "output_type": "execute_result"
        },
        {
          "data": {
            "image/png": "[encoded data removed]",
            "text/plain": [
              "<Figure size 432x288 with 1 Axes>"
            ]
          },
          "metadata": {
            "needs_background": "light"
          },
          "output_type": "display_data"
        }
      ],
      "source": [
        "plt.plot(range(200,400),Errors_train22[200:400])\n",
        "plt.plot(range(200,400),Errors_test22[200:400])"
      ]
    },
    {
      "cell_type": "code",
      "execution_count": null,
      "metadata": {},
      "outputs": [],
      "source": [
        "Errors_train22 = np.array(Errors_train22)\n",
        "Errors_test22 = np.array(Errors_test22)\n",
        "plt.scatter(range(9000,10000),Errors_train22[9000:],s=2)\n",
        "plt.scatter(range(9000,10000),Errors_test22[9000:],s=2)"
      ]
    },
    {
      "cell_type": "markdown",
      "metadata": {},
      "source": [
        "2.2b - the following is smaller the range to look more specific. (could ignore this)"
      ]
    },
    {
      "cell_type": "code",
      "execution_count": 17,
      "metadata": {
        "id": "mEP4A4zcoaG0"
      },
      "outputs": [],
      "source": [
        "def findSGD2(start,X,Y,alpha,iteration):\n",
        "  k = 0\n",
        "  current = start\n",
        "  w = []\n",
        "  error = []\n",
        "  i = rd.choice(range(len(Y)))\n",
        "  next = start-alpha*(sigmoid(current,X[i])-Y[i])*X[i]\n",
        "  while k < iteration: \n",
        "    #print('current is ',current,', diff = ',np.linalg.norm(next - current))\n",
        "    w.append(current)\n",
        "    error.append(log_error(current,X,Y))\n",
        "    if isinstance(next[0], complex):\n",
        "      break\n",
        "    current = next\n",
        "    i = rd.choice(range(len(Y)))\n",
        "    next = current - alpha * (sigmoid(current,X[i])-Y[i]) * X[i] \n",
        "    k += 1\n",
        "  index = error.index(min(error))\n",
        "  return w[index],error[index]"
      ]
    },
    {
      "cell_type": "code",
      "execution_count": null,
      "metadata": {
        "colab": {
          "base_uri": "https://localhost:8080/"
        },
        "id": "2O-zjzBRFVgN",
        "outputId": "20c90ee1-f6d2-406c-d89e-04c9fd323b78"
      },
      "outputs": [],
      "source": [
        "train22 = data_generator(5000,15,0.05)\n",
        "test22 = data_generator(500,15,0.05)\n",
        "variable = 15\n",
        "\n",
        "X = [ row[1:] for row in train22 ]\n",
        "X = np.hstack((np.ones((5000,1)),X))\n",
        "Y = [ row[0] for row in train22 ]\n",
        "\n",
        "X_test = [ row[1:] for row in test22 ]\n",
        "X_test = np.hstack((np.ones((500,1)),X_test))\n",
        "Y_test = [ row[0] for row in test22 ]\n",
        "\n",
        "alpha = 1\n",
        "\n",
        "w = []\n",
        "Errors_train22b = []\n",
        "Errors_test22b = []\n",
        "\n",
        "w0 = np.zeros(variable+1)\n",
        "\n",
        "for i in range(200,400,10):\n",
        "  print('start = ',i)\n",
        "  #w0 = np.random.rand(variable+1)\n",
        "  wt,error_train = findSGD2(w0,X,Y,alpha,i)\n",
        "  error_test = log_error(wt,X_test,Y_test)\n",
        "  w.append(wt)\n",
        "  Errors_train22b.append(error_train)\n",
        "  Errors_test22b.append(error_test)\n",
        "\n",
        "#print(Errors_train22)\n",
        "#print(Errors_test22)"
      ]
    },
    {
      "cell_type": "code",
      "execution_count": 32,
      "metadata": {},
      "outputs": [
        {
          "name": "stdout",
          "output_type": "stream",
          "text": [
            "[0.004610769937685861, 0.009055352173004636, 0.1702045823653262, 0.005291214798126428, 0.004683094042663099, 0.40347293968767944, 0.004067850078554915, 0.01752499856341361, 0.004486006604868478, 0.002768195875791532, 0.010229074482517364, 0.5712262921854774, 0.005552150638744596, 0.5494201403815013, 0.0030410788554839398, 0.0025838619762239305, 0.0038002255145115653, 0.0022342414101071927, 0.0015256503509134703, 0.0025443920669468885]\n",
            "[-0.32681864  6.94615924  6.74887361  6.9213913   6.6986465   6.20184288\n",
            "  0.51057005  0.2029844   0.22265506  0.50234544 -0.04635787  0.04115587\n",
            "  0.07937897  0.33121716  0.38635596  0.04965901]\n",
            "380 0.0015256503509134703\n"
          ]
        }
      ],
      "source": [
        "print(Errors_train22b)\n",
        "wb = w[Errors_train22b.index(min(Errors_train22b))]\n",
        "print(wb)\n",
        "index = Errors_train22b.index(min(Errors_train22b))\n",
        "print(range(200,400,10)[index],Errors_train22b[index])"
      ]
    },
    {
      "cell_type": "code",
      "execution_count": null,
      "metadata": {},
      "outputs": [],
      "source": [
        "plt.plot(range(200,400,10),Errors_train22b)"
      ]
    },
    {
      "cell_type": "code",
      "execution_count": null,
      "metadata": {},
      "outputs": [],
      "source": [
        "plt.plot(range(200,400,10),Errors_test22b)"
      ]
    }
  ],
  "metadata": {
    "colab": {
      "provenance": []
    },
    "kernelspec": {
      "display_name": "Python 3.9.7 64-bit",
      "language": "python",
      "name": "python3"
    },
    "language_info": {
      "codemirror_mode": {
        "name": "ipython",
        "version": 3
      },
      "file_extension": ".py",
      "mimetype": "text/x-python",
      "name": "python",
      "nbconvert_exporter": "python",
      "pygments_lexer": "ipython3",
      "version": "3.9.7"
    },
    "vscode": {
      "interpreter": {
        "hash": "a88ded6f4245aea86749347c0c5fd5051378318ea0a8914dbb4274cd7232cb5a"
      }
    }
  },
  "nbformat": 4,
  "nbformat_minor": 0
}
